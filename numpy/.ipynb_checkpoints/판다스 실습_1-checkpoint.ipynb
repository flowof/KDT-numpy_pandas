{
 "cells": [
  {
   "cell_type": "code",
   "execution_count": 1,
   "metadata": {},
   "outputs": [],
   "source": [
    "import pandas as pd"
   ]
  },
  {
   "cell_type": "code",
   "execution_count": 8,
   "metadata": {},
   "outputs": [
    {
     "name": "stdout",
     "output_type": "stream",
     "text": [
      "방법1 ------------------------------\n",
      "<class 'pandas.core.series.Series'>\n",
      "0    10\n",
      "1    20\n",
      "2    30\n",
      "3    40\n",
      "4    50\n",
      "dtype: object\n",
      "\n",
      "\n",
      "방법2 ------------------------------\n",
      "<class 'pandas.core.series.Series'>\n",
      "0    10\n",
      "1    20\n",
      "2    30\n",
      "3    40\n",
      "4    50\n",
      "dtype: object\n"
     ]
    }
   ],
   "source": [
    "# (1) 다음의 결과내용으로 참조하여 Series를 생성하고 동일하게 출력한다.\n",
    "\n",
    "print('방법1','-'*30)\n",
    "data = {'0':'10', '1':'20', '2':'30', '3':'40', '4':'50'}\n",
    "s1 = pd.Series(data)\n",
    "print(type(s1))\n",
    "print(s1)\n",
    "print('\\n')\n",
    "print('방법2','-'*30)\n",
    "s2 = pd.Series(['10','20','30','40','50'], index = ['0','1','2','3','4'])\n",
    "print(type(s2))\n",
    "print(s2)"
   ]
  },
  {
   "cell_type": "code",
   "execution_count": 10,
   "metadata": {},
   "outputs": [
    {
     "name": "stdout",
     "output_type": "stream",
     "text": [
      "방법1 ------------------------------\n",
      "<class 'pandas.core.series.Series'>\n",
      "a    1\n",
      "b    2\n",
      "c    3\n",
      "d    4\n",
      "e    5\n",
      "dtype: object\n",
      "\n",
      "\n",
      "방법2 ------------------------------\n",
      "<class 'pandas.core.series.Series'>\n",
      "a    1\n",
      "b    2\n",
      "c    3\n",
      "d    4\n",
      "e    5\n",
      "dtype: object\n"
     ]
    }
   ],
   "source": [
    "#(2) 다음의 결과내용으로 참조하여 Series를 생성하고 동일하게 출력한다.\n",
    "\n",
    "print('방법1','-'*30)\n",
    "data2 = {'a':'1','b':'2','c':'3','d':'4','e':'5' }\n",
    "s1 = pd.Series(data2)\n",
    "print(type(s1))\n",
    "print(s1)\n",
    "print('\\n')\n",
    "\n",
    "print('방법2','-'*30)\n",
    "s2 = pd.Series(['1','2','3','4','5'], index = ['a','b','c','d','e'])\n",
    "print(type(s2))\n",
    "print(s2)"
   ]
  },
  {
   "cell_type": "code",
   "execution_count": 11,
   "metadata": {},
   "outputs": [
    {
     "name": "stdout",
     "output_type": "stream",
     "text": [
      "학생1     둘리\n",
      "학생2     또치\n",
      "학생3    도우너\n",
      "학생4    희동이\n",
      "학생5    마이콜\n",
      "dtype: object\n"
     ]
    }
   ],
   "source": [
    "# (3) 다음의 결과내용으로 참조하여 Series를 생성하고 동일하게 출력한다.(딕셔너리로 생성)\n",
    "\n",
    "stu_data = {'학생1':'둘리','학생2':'또치','학생3':'도우너','학생4':'희동이','학생5':'마이콜'}\n",
    "s1 = pd.Series(stu_data)\n",
    "print(type(s1))\n",
    "print(s1)"
   ]
  },
  {
   "cell_type": "code",
   "execution_count": 15,
   "metadata": {
    "scrolled": false
   },
   "outputs": [
    {
     "name": "stdout",
     "output_type": "stream",
     "text": [
      "<class 'pandas.core.series.Series'>\n",
      "학생1     둘리\n",
      "학생2     또치\n",
      "학생3    도우너\n",
      "학생4    희동이\n",
      "학생5    마이콜\n",
      "dtype: object\n"
     ]
    }
   ],
   "source": [
    "#(4) 다음의 결과내용으로 참조하여 Series를 생성하고 동일하게 출력한다.(리스트로 생성)\n",
    "\n",
    "s2 = pd.Series(['둘리','또치','도우너','희동이','마이콜'], index = ['학생1','학생2','학생3','학생4','학생5'])\n",
    "print(type(s2))\n",
    "print(s2)"
   ]
  },
  {
   "cell_type": "code",
   "execution_count": 31,
   "metadata": {},
   "outputs": [
    {
     "data": {
      "text/html": [
       "<div>\n",
       "<style scoped>\n",
       "    .dataframe tbody tr th:only-of-type {\n",
       "        vertical-align: middle;\n",
       "    }\n",
       "\n",
       "    .dataframe tbody tr th {\n",
       "        vertical-align: top;\n",
       "    }\n",
       "\n",
       "    .dataframe thead th {\n",
       "        text-align: right;\n",
       "    }\n",
       "</style>\n",
       "<table border=\"1\" class=\"dataframe\">\n",
       "  <thead>\n",
       "    <tr style=\"text-align: right;\">\n",
       "      <th></th>\n",
       "      <th>values</th>\n",
       "    </tr>\n",
       "  </thead>\n",
       "  <tbody>\n",
       "    <tr>\n",
       "      <th>A형</th>\n",
       "      <td>34.2</td>\n",
       "    </tr>\n",
       "    <tr>\n",
       "      <th>B형</th>\n",
       "      <td>27.1</td>\n",
       "    </tr>\n",
       "    <tr>\n",
       "      <th>O형</th>\n",
       "      <td>26.7</td>\n",
       "    </tr>\n",
       "    <tr>\n",
       "      <th>AB형</th>\n",
       "      <td>11.5</td>\n",
       "    </tr>\n",
       "  </tbody>\n",
       "</table>\n",
       "</div>"
      ],
      "text/plain": [
       "     values\n",
       "A형     34.2\n",
       "B형     27.1\n",
       "O형     26.7\n",
       "AB형    11.5"
      ]
     },
     "execution_count": 31,
     "metadata": {},
     "output_type": "execute_result"
    }
   ],
   "source": [
    "df"
   ]
  },
  {
   "cell_type": "code",
   "execution_count": 42,
   "metadata": {
    "scrolled": false
   },
   "outputs": [
    {
     "name": "stdout",
     "output_type": "stream",
     "text": [
      "[시리즈 sr 출력]\n",
      "<class 'pandas.core.series.Series'>\n",
      "A형     34.2\n",
      "B형     27.1\n",
      "O형     26.7\n",
      "AB형    11.5\n",
      "dtype: float64\n",
      "[시리즈 sr에서 인덱싱과 슬라이싱하여 출력(숫자인덱스 사용)]------------------------\n",
      "type : <class 'numpy.ndarray'>\n",
      "[[34.2]\n",
      " [27.1]\n",
      " [26.7]\n",
      " [11.5]]\n",
      "values    27.1\n",
      "Name: B형, dtype: float64\n",
      "[시리즈 sr에서 인덱싱과 슬라이싱하여 출력(이름인덱스 사용)]---------------------------\n",
      "[시리즈 sr의 크기 출력]\n",
      "4\n",
      "[시리즈 sr의 인덱스 출력]\n",
      "Index(['A형', 'B형', 'O형', 'AB형'], dtype='object')\n",
      "[시리즈 sr의 데이터 값 출력]---------------------------------------\n"
     ]
    }
   ],
   "source": [
    "#(5) 다음에 제시된 소스로 Series를 생성하고 동일하게 제시된 결과 화면과 같이 출력하도록 구현한다.\n",
    "import pandas as pd\n",
    "\n",
    "blood = ['A형', 'B형', 'O형', 'AB형']\n",
    "st = [34.2, 27.1, 26.7, 11.5]\n",
    "sr = pd.Series(st, index=blood)\n",
    "\n",
    "print('[시리즈 sr 출력]')\n",
    "print(type(sr))\n",
    "print(sr)\n",
    "# print('\\n') # ---------------\n",
    "# df = pd.DataFrame(sr)\n",
    "# print(type(df))\n",
    "# print(df)\n",
    "# print('-'*50)\n",
    "print('[시리즈 sr에서 인덱싱과 슬라이싱하여 출력(숫자인덱스 사용)]------------------------')\n",
    "df = pd.DataFrame(sr)\n",
    "# print(df.columns)\n",
    "df.columns = ['values']\n",
    "print('type :',type(df.values))\n",
    "\n",
    "print(df.values)\n",
    "\n",
    "print(df.iloc[1,:])\n",
    "\n",
    "\n",
    "print('[시리즈 sr에서 인덱싱과 슬라이싱하여 출력(이름인덱스 사용)]---------------------------')\n",
    "\n",
    "\n",
    "#print(df.loc['B형'])\n",
    "\n",
    "print('[시리즈 sr의 크기 출력]')\n",
    "print(len(sr))\n",
    "\n",
    "print('[시리즈 sr의 인덱스 출력]')\n",
    "# print('index :',df.index)\n",
    "print(df.index)\n",
    "\n",
    "print('[시리즈 sr의 데이터 값 출력]---------------------------------------')"
   ]
  },
  {
   "cell_type": "code",
   "execution_count": null,
   "metadata": {},
   "outputs": [],
   "source": [
    "#(6) 다음의 결과내용으로 참조하여 DataFrame을 생성하고 동일하게 출력한다.\n",
    "\n"
   ]
  },
  {
   "cell_type": "code",
   "execution_count": null,
   "metadata": {},
   "outputs": [],
   "source": [
    "#(7) 다음의 결과내용으로 참조하여 DataFrame을 생성하고 동일하게 출력한다.\n",
    "\n"
   ]
  },
  {
   "cell_type": "code",
   "execution_count": null,
   "metadata": {},
   "outputs": [],
   "source": [
    "#(8) 7번 문제에서 생성한 DataFrame에서 인덱스와 컬럼명을 다음과 같이 변경하여 출력한다.\n",
    "\n"
   ]
  },
  {
   "cell_type": "code",
   "execution_count": null,
   "metadata": {},
   "outputs": [],
   "source": [
    "#(9) 다음에 제시된 내용으로 DataFrame 을 생성하고 서브 문제에서 제시된 기능을 구현한다.\n",
    "\n"
   ]
  },
  {
   "cell_type": "code",
   "execution_count": null,
   "metadata": {},
   "outputs": [],
   "source": [
    "#(10) 9번 문제에서 사용한 df 라는 DataFrame의 숫자 index를 다음과 같이 name 컬럼으로 변경하고 df 를 출력한다.\n",
    "\n"
   ]
  },
  {
   "cell_type": "code",
   "execution_count": null,
   "metadata": {},
   "outputs": [],
   "source": []
  },
  {
   "cell_type": "code",
   "execution_count": null,
   "metadata": {},
   "outputs": [],
   "source": []
  },
  {
   "cell_type": "code",
   "execution_count": null,
   "metadata": {},
   "outputs": [],
   "source": []
  },
  {
   "cell_type": "code",
   "execution_count": null,
   "metadata": {},
   "outputs": [],
   "source": []
  },
  {
   "cell_type": "code",
   "execution_count": null,
   "metadata": {},
   "outputs": [],
   "source": []
  },
  {
   "cell_type": "code",
   "execution_count": null,
   "metadata": {},
   "outputs": [],
   "source": []
  },
  {
   "cell_type": "code",
   "execution_count": null,
   "metadata": {},
   "outputs": [],
   "source": []
  },
  {
   "cell_type": "code",
   "execution_count": null,
   "metadata": {},
   "outputs": [],
   "source": []
  },
  {
   "cell_type": "code",
   "execution_count": null,
   "metadata": {},
   "outputs": [],
   "source": []
  }
 ],
 "metadata": {
  "kernelspec": {
   "display_name": "Python 3",
   "language": "python",
   "name": "python3"
  }
 },
 "nbformat": 4,
 "nbformat_minor": 2
}
