{
 "cells": [
  {
   "cell_type": "markdown",
   "metadata": {},
   "source": [
    "# 11장. N차원 배열 다루기 - Numpy로 차원을 넘나들다."
   ]
  },
  {
   "cell_type": "markdown",
   "metadata": {},
   "source": [
    "## 1절. 넘파이 패키지 --- p. 2"
   ]
  },
  {
   "cell_type": "code",
   "execution_count": 43,
   "metadata": {},
   "outputs": [
    {
     "name": "stdout",
     "output_type": "stream",
     "text": [
      "[0, 1, 2, 3, 4]\n",
      "[0 1 2 3 4]\n"
     ]
    }
   ],
   "source": [
    "# 1.2. ndarray 속성 --- p.4\n",
    "\n",
    "# 리스트 vs 넘파이?\n",
    "lst = [i for i in range(5)]\n",
    "print(lst)\n",
    "\n",
    "import numpy as np\n",
    "a = np.arange(5)\n",
    "print(a)"
   ]
  },
  {
   "cell_type": "code",
   "execution_count": 3,
   "metadata": {
    "scrolled": true
   },
   "outputs": [
    {
     "name": "stdout",
     "output_type": "stream",
     "text": [
      "['T', '__abs__', '__add__', '__and__', '__array__', '__array_finalize__', '__array_function__', '__array_interface__', '__array_prepare__', '__array_priority__', '__array_struct__', '__array_ufunc__', '__array_wrap__', '__bool__', '__class__', '__complex__', '__contains__', '__copy__', '__deepcopy__', '__delattr__', '__delitem__', '__dir__', '__divmod__', '__doc__', '__eq__', '__float__', '__floordiv__', '__format__', '__ge__', '__getattribute__', '__getitem__', '__gt__', '__hash__', '__iadd__', '__iand__', '__ifloordiv__', '__ilshift__', '__imatmul__', '__imod__', '__imul__', '__index__', '__init__', '__init_subclass__', '__int__', '__invert__', '__ior__', '__ipow__', '__irshift__', '__isub__', '__iter__', '__itruediv__', '__ixor__', '__le__', '__len__', '__lshift__', '__lt__', '__matmul__', '__mod__', '__mul__', '__ne__', '__neg__', '__new__', '__or__', '__pos__', '__pow__', '__radd__', '__rand__', '__rdivmod__', '__reduce__', '__reduce_ex__', '__repr__', '__rfloordiv__', '__rlshift__', '__rmatmul__', '__rmod__', '__rmul__', '__ror__', '__rpow__', '__rrshift__', '__rshift__', '__rsub__', '__rtruediv__', '__rxor__', '__setattr__', '__setitem__', '__setstate__', '__sizeof__', '__str__', '__sub__', '__subclasshook__', '__truediv__', '__xor__', 'all', 'any', 'argmax', 'argmin', 'argpartition', 'argsort', 'astype', 'base', 'byteswap', 'choose', 'clip', 'compress', 'conj', 'conjugate', 'copy', 'ctypes', 'cumprod', 'cumsum', 'data', 'diagonal', 'dot', 'dtype', 'dump', 'dumps', 'fill', 'flags', 'flat', 'flatten', 'getfield', 'imag', 'item', 'itemset', 'itemsize', 'max', 'mean', 'min', 'nbytes', 'ndim', 'newbyteorder', 'nonzero', 'partition', 'prod', 'ptp', 'put', 'ravel', 'real', 'repeat', 'reshape', 'resize', 'round', 'searchsorted', 'setfield', 'setflags', 'shape', 'size', 'sort', 'squeeze', 'std', 'strides', 'sum', 'swapaxes', 'take', 'tobytes', 'tofile', 'tolist', 'tostring', 'trace', 'transpose', 'var', 'view']\n"
     ]
    }
   ],
   "source": [
    "print(dir(a))"
   ]
  },
  {
   "cell_type": "code",
   "execution_count": 44,
   "metadata": {},
   "outputs": [
    {
     "name": "stdout",
     "output_type": "stream",
     "text": [
      "type(a) : <class 'numpy.ndarray'>\n",
      "a.ndim : 1\n",
      "a.shape : (5,)\n",
      "a.size : 5\n",
      "a.dtype : int32\n",
      "a.itemsize: 4\n",
      "a.data: <memory at 0x0000021CA10B94C8>\n",
      "a[1]: 1\n"
     ]
    }
   ],
   "source": [
    "print('type(a) :',type(a))\n",
    "print('a.ndim :',a.ndim)\n",
    "print('a.shape :',a.shape)\n",
    "print('a.size :',a.size)\n",
    "print('a.dtype :',a.dtype)\n",
    "print('a.itemsize:', a.itemsize) # 배열 각 멤버의 바이트 크기 리턴\n",
    "print('a.data:', a.data)\n",
    "print('a[1]:', a[1])"
   ]
  },
  {
   "cell_type": "code",
   "execution_count": 52,
   "metadata": {},
   "outputs": [
    {
     "name": "stdout",
     "output_type": "stream",
     "text": [
      "a : \n",
      " [[ 0  1  2  3  4]\n",
      " [ 5  6  7  8  9]\n",
      " [10 11 12 13 14]]\n",
      "\n",
      "\n",
      "a.shape : (3, 5)\n",
      "a.ndim : 2\n",
      "a.dtype : int32\n",
      "a.dtype.name : int32\n",
      "a.itemsize: 4\n",
      "a.size : 15\n",
      "type(a) : <class 'numpy.ndarray'>\n",
      "a.data: <memory at 0x0000021C704EA1F8>\n",
      "a[1]: [5 6 7 8 9]\n"
     ]
    }
   ],
   "source": [
    "a = np.arange(15).reshape(3,5)\n",
    "print('a :','\\n',a)\n",
    "print('\\n')\n",
    "print('a.shape :',a.shape)\n",
    "print('a.ndim :',a.ndim)\n",
    "print('a.dtype :',a.dtype)\n",
    "print('a.dtype.name :',a.dtype.name)\n",
    "print('a.itemsize:', a.itemsize) # 배열 각 멤버의 바이트 크기 리턴\n",
    "print('a.size :',a.size)\n",
    "print('type(a) :',type(a))\n",
    "\n",
    "print('a.data:', a.data)\n",
    "print('a[1]:', a[1])"
   ]
  },
  {
   "cell_type": "code",
   "execution_count": 48,
   "metadata": {},
   "outputs": [
    {
     "name": "stdout",
     "output_type": "stream",
     "text": [
      "b : [5 2 8]\n",
      "type(b) : <class 'numpy.ndarray'>\n",
      "c : [0 1 2 3 4]\n",
      "type(c) : <class 'numpy.ndarray'>\n"
     ]
    }
   ],
   "source": [
    "# array vs arange\n",
    "b = np.array([5,2,8]) # 무작위로 지정\n",
    "c = np.arange(5) # 순서대로\n",
    "\n",
    "print('b :',b)\n",
    "print('type(b) :',type(b))\n",
    "\n",
    "print('c :',c)\n",
    "print('type(c) :',type(c))"
   ]
  },
  {
   "cell_type": "code",
   "execution_count": 58,
   "metadata": {
    "scrolled": true
   },
   "outputs": [
    {
     "name": "stdout",
     "output_type": "stream",
     "text": [
      "aa.shape :  (12,)\n",
      "aa :  \n",
      " [ 0  1  2  3  4  5  6  7  8  9 10 11]\n",
      "aa_re :  \n",
      " [[ 0  1  2  3]\n",
      " [ 4  5  6  7]\n",
      " [ 8  9 10 11]]\n",
      "--------------------------------------------------------------------------------\n",
      "a :  \n",
      " [[ 0  1  2  3]\n",
      " [ 4  5  6  7]\n",
      " [ 8  9 10 11]]\n"
     ]
    },
    {
     "data": {
      "text/plain": [
       "\"\\n#arange(12)가 객체라는 추가 설명\\nclass A:\\n    def func(self):\\n        print('func')\\n        \\n        \\na = A()\\na.func()\\n\""
      ]
     },
     "execution_count": 58,
     "metadata": {},
     "output_type": "execute_result"
    }
   ],
   "source": [
    "#1.3. dtype의 이해 --- p.5\n",
    "aa = np.arange(12)\n",
    "print('aa.shape : ',aa.shape)\n",
    "print('aa : ','\\n',aa)\n",
    "\n",
    "aa_re = aa.reshape(3,4)\n",
    "print('aa_re : ','\\n',aa_re)\n",
    "\n",
    "print('-'*80)\n",
    "a = np.arange(12).reshape(3,4) \n",
    "print('a : ','\\n', a)\n",
    "# 가능한 이유\n",
    "#np.arange(12)가 통째로 객체로 받아지기 때문에 .reshape()를 바로 받을 수 있음\n",
    "# -(이런 너낌)-> np.arange(12).reshape(3,4).shape\n",
    "\n",
    "\"\"\"\n",
    "#arange(12)가 객체라는 추가 설명\n",
    "class A:\n",
    "    def func(self):\n",
    "        print('func')\n",
    "        \n",
    "        \n",
    "a = A()\n",
    "a.func()\n",
    "\"\"\""
   ]
  },
  {
   "cell_type": "code",
   "execution_count": 66,
   "metadata": {},
   "outputs": [
    {
     "name": "stdout",
     "output_type": "stream",
     "text": [
      "a.dtype: int32\n",
      "a: \n",
      " [[ 0  1  2  3]\n",
      " [ 4  5  6  7]\n",
      " [ 8  9 10 11]]\n",
      "\n",
      "\n",
      "a.dtype: int64\n",
      "a: \n",
      " [[ 4294967296 12884901890]\n",
      " [21474836484 30064771078]\n",
      " [38654705672 47244640266]]\n",
      "(3, 2)\n"
     ]
    }
   ],
   "source": [
    "a = np.arange(12).reshape(3,4)\n",
    "\n",
    "#int32\n",
    "print('a.dtype:',a.dtype) \n",
    "print('a:','\\n',a)\n",
    "\n",
    "print('\\n')\n",
    "\n",
    "#int64\n",
    "a.dtype = np.int64\n",
    "print('a.dtype:',a.dtype) \n",
    "print('a:','\\n',a)\n",
    "print(a.shape)"
   ]
  },
  {
   "cell_type": "markdown",
   "metadata": {},
   "source": [
    "## 2절. 넘파이 배열 --- p. 5"
   ]
  },
  {
   "cell_type": "code",
   "execution_count": 69,
   "metadata": {
    "scrolled": true
   },
   "outputs": [
    {
     "name": "stdout",
     "output_type": "stream",
     "text": [
      "a: \n",
      " [1 2 3 4]\n",
      "int32\n",
      "\n",
      "\n",
      "b: \n",
      " [[1.5 2.  3. ]\n",
      " [4.  5.  6. ]]\n",
      "float64\n"
     ]
    }
   ],
   "source": [
    "# 2.1. array()로 넘파이 배열 만들기 --- p.7\n",
    "a = np.array([1,2,3,4])\n",
    "print('a:', '\\n',a)\n",
    "print(a.dtype)\n",
    "print('\\n')\n",
    "b = np.array([[1.5, 2, 3], [4, 5, 6]])\n",
    "print('b:', '\\n',b)\n",
    "print(b.dtype) # 타입이 가장 큰(1.5)float 타입으로 모두 변경됨"
   ]
  },
  {
   "cell_type": "code",
   "execution_count": 74,
   "metadata": {},
   "outputs": [
    {
     "name": "stdout",
     "output_type": "stream",
     "text": [
      "a :  [2 3 4]\n",
      "dir(a) :  \n",
      " ['T', '__abs__', '__add__', '__and__', '__array__', '__array_finalize__', '__array_function__', '__array_interface__', '__array_prepare__', '__array_priority__', '__array_struct__', '__array_ufunc__', '__array_wrap__', '__bool__', '__class__', '__complex__', '__contains__', '__copy__', '__deepcopy__', '__delattr__', '__delitem__', '__dir__', '__divmod__', '__doc__', '__eq__', '__float__', '__floordiv__', '__format__', '__ge__', '__getattribute__', '__getitem__', '__gt__', '__hash__', '__iadd__', '__iand__', '__ifloordiv__', '__ilshift__', '__imatmul__', '__imod__', '__imul__', '__index__', '__init__', '__init_subclass__', '__int__', '__invert__', '__ior__', '__ipow__', '__irshift__', '__isub__', '__iter__', '__itruediv__', '__ixor__', '__le__', '__len__', '__lshift__', '__lt__', '__matmul__', '__mod__', '__mul__', '__ne__', '__neg__', '__new__', '__or__', '__pos__', '__pow__', '__radd__', '__rand__', '__rdivmod__', '__reduce__', '__reduce_ex__', '__repr__', '__rfloordiv__', '__rlshift__', '__rmatmul__', '__rmod__', '__rmul__', '__ror__', '__rpow__', '__rrshift__', '__rshift__', '__rsub__', '__rtruediv__', '__rxor__', '__setattr__', '__setitem__', '__setstate__', '__sizeof__', '__str__', '__sub__', '__subclasshook__', '__truediv__', '__xor__', 'all', 'any', 'argmax', 'argmin', 'argpartition', 'argsort', 'astype', 'base', 'byteswap', 'choose', 'clip', 'compress', 'conj', 'conjugate', 'copy', 'ctypes', 'cumprod', 'cumsum', 'data', 'diagonal', 'dot', 'dtype', 'dump', 'dumps', 'fill', 'flags', 'flat', 'flatten', 'getfield', 'imag', 'item', 'itemset', 'itemsize', 'max', 'mean', 'min', 'nbytes', 'ndim', 'newbyteorder', 'nonzero', 'partition', 'prod', 'ptp', 'put', 'ravel', 'real', 'repeat', 'reshape', 'resize', 'round', 'searchsorted', 'setfield', 'setflags', 'shape', 'size', 'sort', 'squeeze', 'std', 'strides', 'sum', 'swapaxes', 'take', 'tobytes', 'tofile', 'tolist', 'tostring', 'trace', 'transpose', 'var', 'view']\n",
      "\n",
      "\n",
      "b :  [2 3 4]\n",
      "a :  [7 3 4]\n",
      "2321984429472 \n",
      " 2321984429472\n",
      "--------------------------------------------------------------------------------\n",
      "\n",
      "\n",
      "c :  \n",
      " [[1.5+0.j 2. +0.j 3. +0.j]\n",
      " [4. +0.j 5. +0.j 6. +0.j]]\n",
      "d :  \n",
      " [[1 2 3]\n",
      " [4 5 6]]\n"
     ]
    },
    {
     "name": "stderr",
     "output_type": "stream",
     "text": [
      "C:\\Users\\0114m\\Anaconda3\\lib\\site-packages\\ipykernel_launcher.py:24: ComplexWarning: Casting complex values to real discards the imaginary part\n"
     ]
    }
   ],
   "source": [
    "# 2.1. array()로 넘파이 배열 만들기 --- p.8\n",
    "import numpy as np\n",
    "\n",
    "a = np.array([2,3,4], copy = False)\n",
    "print('a : ', a)\n",
    "print('dir(a) : ', '\\n', dir(a)) # array 있는지 확인\n",
    "\n",
    "print('\\n')\n",
    "\n",
    "# 있어서 변수b에 dir?을 사용해 봄\n",
    "b = a.__array__()\n",
    "print('b : ', b)\n",
    "#copy=False이면 기존의 객체를 이용해 새로운 배열의 복사본을 생성하지 않고, 똑같은 레퍼런스?를 사용\n",
    "\n",
    "b[0] = 7 # b값을 바꿔도\n",
    "print('a : ', a) #같은 애들? 이기 때문에 a출력하면 a도 바뀜\n",
    "\n",
    "# 주소값 확인 = 가틍\n",
    "print(id(a),'\\n',id(b))\n",
    "\n",
    "print('-'*80), print('\\n')\n",
    "c = np.array([[1.5, 2, 3], [4, 5, 6]], dtype = complex)\n",
    "print('c : ','\\n',c)\n",
    "d = np.array(c, copy = False, dtype ='i') # copy False여도 디타입을 다른 유형으로 지정하면 복사본이 생성됨\n",
    "print('d : ','\\n',d)"
   ]
  },
  {
   "cell_type": "code",
   "execution_count": 78,
   "metadata": {},
   "outputs": [
    {
     "data": {
      "text/plain": [
       "array([[0., 0., 0., 0.],\n",
       "       [0., 0., 0., 0.],\n",
       "       [0., 0., 0., 0.]])"
      ]
     },
     "execution_count": 78,
     "metadata": {},
     "output_type": "execute_result"
    }
   ],
   "source": [
    "# 2.2. 기본값이 있는 배열 만들기 --- p.8\n",
    "\n",
    "# 값이 0으로 채워진 배열\n",
    "np.zeros( (3,4) )"
   ]
  },
  {
   "cell_type": "code",
   "execution_count": 75,
   "metadata": {},
   "outputs": [
    {
     "data": {
      "text/plain": [
       "array([[[1, 1, 1, 1],\n",
       "        [1, 1, 1, 1],\n",
       "        [1, 1, 1, 1]],\n",
       "\n",
       "       [[1, 1, 1, 1],\n",
       "        [1, 1, 1, 1],\n",
       "        [1, 1, 1, 1]]], dtype=int16)"
      ]
     },
     "execution_count": 75,
     "metadata": {},
     "output_type": "execute_result"
    }
   ],
   "source": [
    "# 값이 1로 채워진 배열\n",
    "np.ones( (2, 3, 4), dtype=np.int16) #dtype 지정 가능"
   ]
  },
  {
   "cell_type": "code",
   "execution_count": 79,
   "metadata": {},
   "outputs": [
    {
     "data": {
      "text/plain": [
       "array([[1.5, 2. , 3. ],\n",
       "       [4. , 5. , 6. ]])"
      ]
     },
     "execution_count": 79,
     "metadata": {},
     "output_type": "execute_result"
    }
   ],
   "source": [
    "# 임의의 값으로 채워진 배열 만듦\n",
    "np.empty( (2,3) )"
   ]
  },
  {
   "cell_type": "code",
   "execution_count": 80,
   "metadata": {},
   "outputs": [
    {
     "data": {
      "text/plain": [
       "array([10, 15, 20, 25])"
      ]
     },
     "execution_count": 80,
     "metadata": {},
     "output_type": "execute_result"
    }
   ],
   "source": [
    "# 2.3. 연속된 값을 갖는 배열 만들기 --- p.9\n",
    "np.arange(10, 30, 5) # 10부터 30까지 5만큼"
   ]
  },
  {
   "cell_type": "code",
   "execution_count": 75,
   "metadata": {},
   "outputs": [
    {
     "name": "stdout",
     "output_type": "stream",
     "text": [
      "[0.  0.3 0.6 0.9 1.2 1.5 1.8]\n",
      "float64\n"
     ]
    }
   ],
   "source": [
    "a = np.arange(0, 2, 0.3) #float 인수도 가능\n",
    "print(a) # 0부터 2까지 0.3씩\n",
    "print(a.dtype)"
   ]
  },
  {
   "cell_type": "code",
   "execution_count": 83,
   "metadata": {},
   "outputs": [
    {
     "data": {
      "text/plain": [
       "array([0.        , 0.22222222, 0.44444444, 0.66666667, 0.88888889,\n",
       "       1.11111111, 1.33333333, 1.55555556, 1.77777778])"
      ]
     },
     "execution_count": 83,
     "metadata": {},
     "output_type": "execute_result"
    }
   ],
   "source": [
    "# linspace() : 원하는 요소의 수를 인수로 받음\n",
    "np.linspace(0,2,9, endpoint = False)#0부터 2를 9개로 반환해라?"
   ]
  },
  {
   "cell_type": "code",
   "execution_count": 84,
   "metadata": {},
   "outputs": [
    {
     "data": {
      "text/plain": [
       "array([ 0.00000000e+00,  6.34239197e-02,  1.26592454e-01,  1.89251244e-01,\n",
       "        2.51147987e-01,  3.12033446e-01,  3.71662456e-01,  4.29794912e-01,\n",
       "        4.86196736e-01,  5.40640817e-01,  5.92907929e-01,  6.42787610e-01,\n",
       "        6.90079011e-01,  7.34591709e-01,  7.76146464e-01,  8.14575952e-01,\n",
       "        8.49725430e-01,  8.81453363e-01,  9.09631995e-01,  9.34147860e-01,\n",
       "        9.54902241e-01,  9.71811568e-01,  9.84807753e-01,  9.93838464e-01,\n",
       "        9.98867339e-01,  9.99874128e-01,  9.96854776e-01,  9.89821442e-01,\n",
       "        9.78802446e-01,  9.63842159e-01,  9.45000819e-01,  9.22354294e-01,\n",
       "        8.95993774e-01,  8.66025404e-01,  8.32569855e-01,  7.95761841e-01,\n",
       "        7.55749574e-01,  7.12694171e-01,  6.66769001e-01,  6.18158986e-01,\n",
       "        5.67059864e-01,  5.13677392e-01,  4.58226522e-01,  4.00930535e-01,\n",
       "        3.42020143e-01,  2.81732557e-01,  2.20310533e-01,  1.58001396e-01,\n",
       "        9.50560433e-02,  3.17279335e-02, -3.17279335e-02, -9.50560433e-02,\n",
       "       -1.58001396e-01, -2.20310533e-01, -2.81732557e-01, -3.42020143e-01,\n",
       "       -4.00930535e-01, -4.58226522e-01, -5.13677392e-01, -5.67059864e-01,\n",
       "       -6.18158986e-01, -6.66769001e-01, -7.12694171e-01, -7.55749574e-01,\n",
       "       -7.95761841e-01, -8.32569855e-01, -8.66025404e-01, -8.95993774e-01,\n",
       "       -9.22354294e-01, -9.45000819e-01, -9.63842159e-01, -9.78802446e-01,\n",
       "       -9.89821442e-01, -9.96854776e-01, -9.99874128e-01, -9.98867339e-01,\n",
       "       -9.93838464e-01, -9.84807753e-01, -9.71811568e-01, -9.54902241e-01,\n",
       "       -9.34147860e-01, -9.09631995e-01, -8.81453363e-01, -8.49725430e-01,\n",
       "       -8.14575952e-01, -7.76146464e-01, -7.34591709e-01, -6.90079011e-01,\n",
       "       -6.42787610e-01, -5.92907929e-01, -5.40640817e-01, -4.86196736e-01,\n",
       "       -4.29794912e-01, -3.71662456e-01, -3.12033446e-01, -2.51147987e-01,\n",
       "       -1.89251244e-01, -1.26592454e-01, -6.34239197e-02, -2.44929360e-16])"
      ]
     },
     "execution_count": 84,
     "metadata": {},
     "output_type": "execute_result"
    }
   ],
   "source": [
    "from numpy import pi\n",
    "x = np.linspace(0, 2*pi, 100) #0부터 2*pi까지 100으로 나눠라\n",
    "f = np.sin(x)\n",
    "f"
   ]
  },
  {
   "cell_type": "code",
   "execution_count": 110,
   "metadata": {},
   "outputs": [
    {
     "data": {
      "text/plain": [
       "array([[1., 0., 2., 7.],\n",
       "       [0., 9., 7., 1.],\n",
       "       [7., 6., 3., 1.]])"
      ]
     },
     "execution_count": 110,
     "metadata": {},
     "output_type": "execute_result"
    }
   ],
   "source": [
    "# 2.4. 배열의 차원 변경하기\n",
    "np.random.random((3,4)) #3x4 행렬로 랜덤하게 뽑아온다\n",
    "\n",
    "a = np.floor(10*np.random.random((3,4))) #floor() : 내림\n",
    "a"
   ]
  },
  {
   "cell_type": "code",
   "execution_count": 89,
   "metadata": {},
   "outputs": [
    {
     "data": {
      "text/plain": [
       "(3, 4)"
      ]
     },
     "execution_count": 89,
     "metadata": {},
     "output_type": "execute_result"
    }
   ],
   "source": [
    "a.shape #튜플"
   ]
  },
  {
   "cell_type": "code",
   "execution_count": 90,
   "metadata": {},
   "outputs": [
    {
     "data": {
      "text/plain": [
       "array([4., 0., 3., 4., 8., 0., 3., 0., 6., 2., 2., 9.])"
      ]
     },
     "execution_count": 90,
     "metadata": {},
     "output_type": "execute_result"
    }
   ],
   "source": [
    "a.ravel()"
   ]
  },
  {
   "cell_type": "code",
   "execution_count": 91,
   "metadata": {
    "scrolled": true
   },
   "outputs": [
    {
     "data": {
      "text/plain": [
       "array([[4., 0., 3., 4.],\n",
       "       [8., 0., 3., 0.],\n",
       "       [6., 2., 2., 9.]])"
      ]
     },
     "execution_count": 91,
     "metadata": {},
     "output_type": "execute_result"
    }
   ],
   "source": [
    "a #a는 변하지 않음\n",
    "#업데이트 하려면  a= a.ravel() 으로 해줘야 한"
   ]
  },
  {
   "cell_type": "code",
   "execution_count": 95,
   "metadata": {},
   "outputs": [
    {
     "name": "stdout",
     "output_type": "stream",
     "text": [
      "(3, 4)\n",
      "3\n",
      "4\n"
     ]
    }
   ],
   "source": [
    "#튜플임!\n",
    "print(a.shape)\n",
    "print(a.shape[0])\n",
    "print(a.shape[1])"
   ]
  },
  {
   "cell_type": "code",
   "execution_count": 109,
   "metadata": {},
   "outputs": [
    {
     "name": "stdout",
     "output_type": "stream",
     "text": [
      "[4.0, 0.0, 3.0, 4.0, 8.0, 0.0, 3.0, 0.0, 6.0, 2.0, 2.0, 9.0] \n",
      " [[4. 0.]\n",
      " [3. 4.]\n",
      " [8. 0.]\n",
      " [3. 0.]\n",
      " [6. 2.]\n",
      " [2. 9.]]\n"
     ]
    }
   ],
   "source": [
    "# a를 한 줄로 나타내는 법 for문 사용!\n",
    "lst = []\n",
    "for i in range(a.shape[0]):\n",
    "    for j in range(a.shape[1]):\n",
    "        lst.append(a[i][j])\n",
    "        \n",
    "print(lst,'\\n', a)"
   ]
  },
  {
   "cell_type": "code",
   "execution_count": 112,
   "metadata": {},
   "outputs": [
    {
     "data": {
      "text/plain": [
       "array([[1., 0., 2., 7.],\n",
       "       [0., 9., 7., 1.],\n",
       "       [7., 6., 3., 1.]])"
      ]
     },
     "execution_count": 112,
     "metadata": {},
     "output_type": "execute_result"
    }
   ],
   "source": [
    "a.reshape(6,2)\n",
    "a"
   ]
  },
  {
   "cell_type": "code",
   "execution_count": 113,
   "metadata": {},
   "outputs": [
    {
     "data": {
      "text/plain": [
       "array([[1., 0., 7.],\n",
       "       [0., 9., 6.],\n",
       "       [2., 7., 3.],\n",
       "       [7., 1., 1.]])"
      ]
     },
     "execution_count": 113,
     "metadata": {},
     "output_type": "execute_result"
    }
   ],
   "source": [
    "a.T # 전치행렬"
   ]
  },
  {
   "cell_type": "code",
   "execution_count": 114,
   "metadata": {},
   "outputs": [
    {
     "data": {
      "text/plain": [
       "array([[1., 0.],\n",
       "       [2., 7.],\n",
       "       [0., 9.],\n",
       "       [7., 1.],\n",
       "       [7., 6.],\n",
       "       [3., 1.]])"
      ]
     },
     "execution_count": 114,
     "metadata": {},
     "output_type": "execute_result"
    }
   ],
   "source": [
    "a.resize((6,2))\n",
    "a"
   ]
  },
  {
   "cell_type": "code",
   "execution_count": 131,
   "metadata": {},
   "outputs": [
    {
     "name": "stdout",
     "output_type": "stream",
     "text": [
      "reshape:  \n",
      " [[4. 9. 6. 6. 8. 6.]\n",
      " [3. 4. 7. 5. 2. 3.]] \n",
      " \n",
      " a :  \n",
      " [[4. 9. 6. 6.]\n",
      " [8. 6. 3. 4.]\n",
      " [7. 5. 2. 3.]]\n",
      "--------------------------------------------------------------------------------\n",
      "resize :  None \n",
      " \n",
      " a :  \n",
      " [[4. 9. 6. 6. 8. 6.]\n",
      " [3. 4. 7. 5. 2. 3.]]\n"
     ]
    }
   ],
   "source": [
    "a = np.floor(10*np.random.random((3,4)))\n",
    "#reshape\n",
    "b = a.reshape((2,6)) \n",
    "print('reshape: ','\\n', b,'\\n','\\n', 'a : ','\\n', a)\n",
    "\n",
    "print('-'*80)\n",
    "\n",
    "#resize\n",
    "c = a.resize((2,6))\n",
    "print('resize : ', c,'\\n','\\n', 'a : ','\\n', a)\n",
    "#print(b)"
   ]
  },
  {
   "cell_type": "code",
   "execution_count": 135,
   "metadata": {},
   "outputs": [
    {
     "name": "stdout",
     "output_type": "stream",
     "text": [
      "[[3. 9. 7. 0.]\n",
      " [1. 5. 6. 4.]\n",
      " [3. 1. 4. 3.]]\n",
      "\n",
      "\n",
      "[[3. 9. 7. 0.]\n",
      " [1. 5. 6. 4.]\n",
      " [3. 1. 4. 3.]]\n"
     ]
    }
   ],
   "source": [
    "# 2.5. 배열 인쇄 --- p.12\n",
    "a = np.floor(10*np.random.random((3,4)))\n",
    "print(a)\n",
    "print('\\n')\n",
    "print(a.reshape(3,-1)) # reshape에서 -1 : 자동으로 차원의 크기 계산"
   ]
  },
  {
   "cell_type": "code",
   "execution_count": 136,
   "metadata": {},
   "outputs": [
    {
     "name": "stdout",
     "output_type": "stream",
     "text": [
      "[[[ 0  1  2  3]\n",
      "  [ 4  5  6  7]\n",
      "  [ 8  9 10 11]]\n",
      "\n",
      " [[12 13 14 15]\n",
      "  [16 17 18 19]\n",
      "  [20 21 22 23]]]\n"
     ]
    }
   ],
   "source": [
    "# 2.5. 배열 인쇄 --- p.13\n",
    "\n",
    "# 3차원 배열\n",
    "c = np.arange(24).reshape(2,3,4) # (3,4)모양 배열이 2개 있음\n",
    "print(c)"
   ]
  },
  {
   "cell_type": "code",
   "execution_count": 76,
   "metadata": {},
   "outputs": [
    {
     "name": "stdout",
     "output_type": "stream",
     "text": [
      "[   0    1    2 ... 9997 9998 9999]\n",
      "\n",
      "\n",
      "[[   0    1    2 ...   97   98   99]\n",
      " [ 100  101  102 ...  197  198  199]\n",
      " [ 200  201  202 ...  297  298  299]\n",
      " ...\n",
      " [9700 9701 9702 ... 9797 9798 9799]\n",
      " [9800 9801 9802 ... 9897 9898 9899]\n",
      " [9900 9901 9902 ... 9997 9998 9999]]\n",
      "\n",
      "\n",
      "[[ 0  1  2 ...  7  8  9]\n",
      " [10 11 12 ... 17 18 19]\n",
      " [20 21 22 ... 27 28 29]\n",
      " ...\n",
      " [70 71 72 ... 77 78 79]\n",
      " [80 81 82 ... 87 88 89]\n",
      " [90 91 92 ... 97 98 99]]\n"
     ]
    }
   ],
   "source": [
    "print(np.arange(10000))\n",
    "print('\\n')\n",
    "print(np.arange(10000).reshape(100,100))\n",
    "print('\\n')\n",
    "\n",
    "# threshold 값이 배열의 데이터 수보다 크거나 같아야 전체 데이터를 인쇄 가능\n",
    "np.set_printoptions(threshold=10)\n",
    "print(np.arange(100).reshape(10,10))"
   ]
  },
  {
   "cell_type": "code",
   "execution_count": 156,
   "metadata": {},
   "outputs": [
    {
     "name": "stdout",
     "output_type": "stream",
     "text": [
      "a:  [20 30 40 50]\n",
      "b:  [0 1 2 3]\n",
      "\n",
      "\n",
      "a-b :  [20 29 38 47]\n",
      "b**2 :  [0 1 4 9]\n",
      "10*np.sin(a) :  [ 9.12945251 -9.88031624  7.4511316  -2.62374854]\n",
      "\n",
      "\n",
      "c :  [10 10 10 10]\n",
      "c*np.sin(a) :  [ 9.12945251 -9.88031624  7.4511316  -2.62374854]\n"
     ]
    }
   ],
   "source": [
    "# 2.6. 기본 조작 1) 배열의 요소별 연산 --- p. 15\n",
    "a = np.array([ 20, 30, 40, 50 ])\n",
    "b = np.arange(4)\n",
    "print('a: ',a)\n",
    "print('b: ',b)\n",
    "\n",
    "print('\\n')\n",
    "\n",
    "print('a-b : ',a-b)\n",
    "print('b**2 : ',b**2)\n",
    "print('10*np.sin(a) : ',10*np.sin(a))\n",
    "\n",
    "print('\\n')\n",
    "\n",
    "c = np.array( [10, 10, 10, 10] ) # 10으로 이뤄진 행렬을 만들어서\n",
    "print('c : ', c)\n",
    "print('c*np.sin(a) : ', c*np.sin(a)) #10 대신 c를 넣으면 값이 같음"
   ]
  },
  {
   "cell_type": "code",
   "execution_count": 161,
   "metadata": {},
   "outputs": [
    {
     "name": "stdout",
     "output_type": "stream",
     "text": [
      "a :  [20 30 40 50]\n",
      "[ True  True False False]\n",
      "\n",
      "\n",
      "a :  [20 30 40 50]\n",
      "b :  [35 35 35 35]\n",
      "[ True  True False False]\n"
     ]
    }
   ],
   "source": [
    "a = np.array( [20, 30, 40, 50] )\n",
    "b = np.array( [35, 35, 35, 35] )\n",
    "\n",
    "print('a : ', a)\n",
    "print(a < 35)\n",
    "print('\\n')\n",
    "print('a : ', a)\n",
    "print('b : ', b)\n",
    "print(a < b)"
   ]
  },
  {
   "cell_type": "code",
   "execution_count": 173,
   "metadata": {},
   "outputs": [
    {
     "name": "stdout",
     "output_type": "stream",
     "text": [
      "A*B :  \n",
      " [[2 0]\n",
      " [0 4]]\n",
      "\n",
      "\n",
      "lst :  [[2, 0], [0, 4]]\n"
     ]
    }
   ],
   "source": [
    "# 2.6. 기본 조작 2) 행렬의 곱 --- p. 15\n",
    "A = np.array([[1,1],\n",
    "              [0,1]])\n",
    "B = np.array([[2,0],\n",
    "              [3,4]])\n",
    "print('A*B : ','\\n',A*B) # 요소별 곱(elementwise product)\n",
    "print('\\n')\n",
    "\n",
    "lst = []\n",
    "for i in range(2):\n",
    "    t = []\n",
    "    for j in range(2):\n",
    "        t.append(A[i][j]*B[i][j])\n",
    "    lst.append(t)\n",
    "print('lst : ', lst)\n"
   ]
  },
  {
   "cell_type": "code",
   "execution_count": 174,
   "metadata": {},
   "outputs": [
    {
     "name": "stdout",
     "output_type": "stream",
     "text": [
      "A*B :  \n",
      " [[2 0]\n",
      " [0 4]]\n",
      "A@B :  \n",
      " [[5 4]\n",
      " [3 4]]\n",
      "A.dot(B) :  \n",
      " [[5 4]\n",
      " [3 4]]\n"
     ]
    }
   ],
   "source": [
    "print('A*B : ','\\n',A*B) # 요소별 곱(elementwise product)\n",
    "print('A@B : ','\\n',A@B) # 행렬의 곱(matrix product)\n",
    "print('A.dot(B) : ','\\n',A.dot(B))# 행렬의 곱(matrix product)"
   ]
  },
  {
   "cell_type": "code",
   "execution_count": 175,
   "metadata": {},
   "outputs": [
    {
     "data": {
      "text/plain": [
       "array([[1, 1, 1],\n",
       "       [1, 1, 1]])"
      ]
     },
     "execution_count": 175,
     "metadata": {},
     "output_type": "execute_result"
    }
   ],
   "source": [
    "# 2.6. 기본 조작 3) 복합대입연산자의 사용 --- p. 16\n",
    "a = np.ones( (2,3), dtype=int )\n",
    "a"
   ]
  },
  {
   "cell_type": "code",
   "execution_count": 176,
   "metadata": {},
   "outputs": [
    {
     "data": {
      "text/plain": [
       "array([[3, 3, 3],\n",
       "       [3, 3, 3]])"
      ]
     },
     "execution_count": 176,
     "metadata": {},
     "output_type": "execute_result"
    }
   ],
   "source": [
    "a*=3\n",
    "a"
   ]
  },
  {
   "cell_type": "code",
   "execution_count": 177,
   "metadata": {},
   "outputs": [
    {
     "data": {
      "text/plain": [
       "array([[3, 3, 3],\n",
       "       [3, 3, 3]])"
      ]
     },
     "execution_count": 177,
     "metadata": {},
     "output_type": "execute_result"
    }
   ],
   "source": [
    "c = np.array([3,3,3,3,3,3]).reshape(2,3)\n",
    "c"
   ]
  },
  {
   "cell_type": "code",
   "execution_count": 178,
   "metadata": {},
   "outputs": [
    {
     "data": {
      "text/plain": [
       "array([[3, 3, 3],\n",
       "       [3, 3, 3]])"
      ]
     },
     "execution_count": 178,
     "metadata": {},
     "output_type": "execute_result"
    }
   ],
   "source": [
    "a"
   ]
  },
  {
   "cell_type": "code",
   "execution_count": 179,
   "metadata": {},
   "outputs": [
    {
     "data": {
      "text/plain": [
       "array([[9, 9, 9],\n",
       "       [9, 9, 9]])"
      ]
     },
     "execution_count": 179,
     "metadata": {},
     "output_type": "execute_result"
    }
   ],
   "source": [
    "a *= c\n",
    "a"
   ]
  },
  {
   "cell_type": "code",
   "execution_count": 186,
   "metadata": {},
   "outputs": [
    {
     "data": {
      "text/plain": [
       "array([[0.125676  , 0.66964003, 0.21849381],\n",
       "       [0.07006661, 0.57666788, 0.78370834]])"
      ]
     },
     "execution_count": 186,
     "metadata": {},
     "output_type": "execute_result"
    }
   ],
   "source": [
    "a = np.ones( (2,3), dtype=int )\n",
    "b = np.random.random( (2,3) )\n",
    "b"
   ]
  },
  {
   "cell_type": "code",
   "execution_count": 188,
   "metadata": {},
   "outputs": [],
   "source": [
    "#a+=b #TypeError: Cannot cast ufunc add output from dtype('float64') to dtype('int32') with casting rule 'same_kind'\n",
    "b+=a"
   ]
  },
  {
   "cell_type": "code",
   "execution_count": 197,
   "metadata": {},
   "outputs": [
    {
     "name": "stdout",
     "output_type": "stream",
     "text": [
      "[0.         1.57079633 3.14159265]\n",
      "float64 int32\n",
      "[1.         2.57079633 4.14159265]\n",
      "<class 'complex'>\n",
      "[ 0.54030231+0.84147098j -0.84147098+0.54030231j -0.54030231-0.84147098j]\n",
      "complex128\n"
     ]
    }
   ],
   "source": [
    "from numpy import pi\n",
    "a = np.ones(3, dtype = np.int32)\n",
    "b = np.linspace(0, pi, 3)\n",
    "print(b)\n",
    "print(b.dtype.name, a.dtype.name)\n",
    "\n",
    "c=a+b\n",
    "print(c)\n",
    "\n",
    "print(type(1j))\n",
    "d = np.exp(c*1j)\n",
    "print(d)\n",
    "print(d.dtype.name)\n"
   ]
  },
  {
   "cell_type": "code",
   "execution_count": 198,
   "metadata": {},
   "outputs": [
    {
     "data": {
      "text/plain": [
       "(3.513415107755338, <function ndarray.min>, 0.9060560954434107)"
      ]
     },
     "execution_count": 198,
     "metadata": {},
     "output_type": "execute_result"
    }
   ],
   "source": [
    "# 2.6. 기본 조작 4) 배열 요소의 집계 --- p. 18\n",
    "a = np.random.random( (2,3) )\n",
    "a.sum(), a.min, a.max()"
   ]
  },
  {
   "cell_type": "code",
   "execution_count": 199,
   "metadata": {},
   "outputs": [
    {
     "data": {
      "text/plain": [
       "((2, 3), 2, 3)"
      ]
     },
     "execution_count": 199,
     "metadata": {},
     "output_type": "execute_result"
    }
   ],
   "source": [
    "a.shape, a.shape[0], a.shape[1]"
   ]
  },
  {
   "cell_type": "code",
   "execution_count": 200,
   "metadata": {},
   "outputs": [
    {
     "data": {
      "text/plain": [
       "3.513415107755338"
      ]
     },
     "execution_count": 200,
     "metadata": {},
     "output_type": "execute_result"
    }
   ],
   "source": [
    "sum = 0.0\n",
    "\n",
    "for i in range(a.shape[0]):\n",
    "    for j in range(a.shape[1]):\n",
    "        sum += a[i][j]\n",
    "        \n",
    "sum"
   ]
  },
  {
   "cell_type": "code",
   "execution_count": null,
   "metadata": {},
   "outputs": [],
   "source": [
    "m  = 999999999.0\n",
    "\n",
    "for i in range(a.shape[0]):\n",
    "    for j in range(a.shape[1]):\n",
    "        if m > a[i][j]:\n",
    "            m > a[i][j]:"
   ]
  },
  {
   "cell_type": "code",
   "execution_count": 218,
   "metadata": {},
   "outputs": [
    {
     "name": "stdout",
     "output_type": "stream",
     "text": [
      "b: \n",
      " [[ 0  1  2  3]\n",
      " [ 4  5  6  7]\n",
      " [ 8  9 10 11]]\n",
      "\n",
      "\n",
      "b.sum(): 66 b.min(): 0 b.max(): 11\n",
      "\n",
      "\n",
      "b.sum(axis=0) : [12 15 18 21]\n",
      "b.sum(axis=1) : [ 6 22 38]\n",
      "\n",
      "\n",
      "b.cumsum(axis=1) : \n",
      " [[ 0  1  3  6]\n",
      " [ 4  9 15 22]\n",
      " [ 8 17 27 38]]\n"
     ]
    }
   ],
   "source": [
    "# 2.6. 기본 조작 5) 축을 지정한 집계 --- p.18\n",
    "b = np.arange(12).reshape(3,4)\n",
    "print('b:','\\n', b)\n",
    "print('\\n')\n",
    "print('b.sum():',b.sum(),'b.min():', b.min(), 'b.max():',b.max())\n",
    "print('\\n')\n",
    "print('b.sum(axis=0) :',b.sum(axis=0)) # 열 별로 합\n",
    "print('b.sum(axis=1) :',b.sum(axis=1)) # 행 별로 합\n",
    "print('\\n')\n",
    "print('b.cumsum(axis=1) :','\\n', b.cumsum(axis=1) )# 행 별로 누적합"
   ]
  },
  {
   "cell_type": "code",
   "execution_count": 215,
   "metadata": {},
   "outputs": [
    {
     "name": "stdout",
     "output_type": "stream",
     "text": [
      "[[[ 0  1  2  3]\n",
      "  [ 4  5  6  7]\n",
      "  [ 8  9 10 11]]\n",
      "\n",
      " [[12 13 14 15]\n",
      "  [16 17 18 19]\n",
      "  [20 21 22 23]]]\n"
     ]
    }
   ],
   "source": [
    "c = np.arange(24).reshape(2,3,4) # 축이 3개(3차원 배열)\n",
    "print(c)"
   ]
  },
  {
   "cell_type": "code",
   "execution_count": 219,
   "metadata": {},
   "outputs": [
    {
     "data": {
      "text/plain": [
       "array([[12, 14, 16, 18],\n",
       "       [20, 22, 24, 26],\n",
       "       [28, 30, 32, 34]])"
      ]
     },
     "execution_count": 219,
     "metadata": {},
     "output_type": "execute_result"
    }
   ],
   "source": [
    "c.sum(axis=0)"
   ]
  },
  {
   "cell_type": "code",
   "execution_count": 220,
   "metadata": {},
   "outputs": [
    {
     "data": {
      "text/plain": [
       "array([[12, 15, 18, 21],\n",
       "       [48, 51, 54, 57]])"
      ]
     },
     "execution_count": 220,
     "metadata": {},
     "output_type": "execute_result"
    }
   ],
   "source": [
    "c.sum(axis=1)"
   ]
  },
  {
   "cell_type": "code",
   "execution_count": 222,
   "metadata": {},
   "outputs": [
    {
     "data": {
      "text/plain": [
       "array([[ 6, 22, 38],\n",
       "       [54, 70, 86]])"
      ]
     },
     "execution_count": 222,
     "metadata": {},
     "output_type": "execute_result"
    }
   ],
   "source": [
    "c.sum(axis=2)"
   ]
  },
  {
   "cell_type": "code",
   "execution_count": 236,
   "metadata": {},
   "outputs": [
    {
     "data": {
      "text/plain": [
       "array([2., 0., 6.])"
      ]
     },
     "execution_count": 236,
     "metadata": {},
     "output_type": "execute_result"
    }
   ],
   "source": [
    "class test:\n",
    "    def __init__(self, val):\n",
    "        self.val = np.array(val)\n",
    "    def a1(self):\n",
    "        print('self : a1')\n",
    "        \n",
    "    @classmethod\n",
    "    def add(cls, a, b):\n",
    "        c = a.val + b.val\n",
    "        return c\n",
    "        \n",
    "def g():\n",
    "    print('g')\n",
    "        \n",
    "a = test([0,1,2])\n",
    "a.val\n",
    "b = test([2.,-1.,4.])\n",
    "b.val\n",
    "\n",
    "test.add(a,b)"
   ]
  },
  {
   "cell_type": "code",
   "execution_count": 231,
   "metadata": {},
   "outputs": [
    {
     "name": "stdout",
     "output_type": "stream",
     "text": [
      "cls : c1\n"
     ]
    }
   ],
   "source": [
    "test.c1()"
   ]
  },
  {
   "cell_type": "code",
   "execution_count": 243,
   "metadata": {},
   "outputs": [
    {
     "name": "stdout",
     "output_type": "stream",
     "text": [
      "[10 20 30] [0 1 2] [ 2. -1.  4.]\n",
      "\n",
      "\n",
      "G :  [ 2. 19. 64.]\n",
      "G :  [ 2. 19. 64.]\n"
     ]
    },
    {
     "ename": "TypeError",
     "evalue": "Cannot cast ufunc add output from dtype('float64') to dtype('int32') with casting rule 'same_kind'",
     "output_type": "error",
     "traceback": [
      "\u001b[1;31m---------------------------------------------------------------------------\u001b[0m",
      "\u001b[1;31mTypeError\u001b[0m                                 Traceback (most recent call last)",
      "\u001b[1;32m<ipython-input-243-5a777b8d8259>\u001b[0m in \u001b[0;36m<module>\u001b[1;34m\u001b[0m\n\u001b[0;32m     14\u001b[0m \u001b[1;33m\u001b[0m\u001b[0m\n\u001b[0;32m     15\u001b[0m \u001b[1;31m#세미콜론(;)은 한 라인에 여러 표현식을 작성할 때\u001b[0m\u001b[1;33m\u001b[0m\u001b[1;33m\u001b[0m\u001b[1;33m\u001b[0m\u001b[0m\n\u001b[1;32m---> 16\u001b[1;33m \u001b[0mG\u001b[0m \u001b[1;33m=\u001b[0m \u001b[0mA\u001b[0m\u001b[1;33m*\u001b[0m\u001b[0mB\u001b[0m\u001b[1;33m;\u001b[0m \u001b[0mnp\u001b[0m\u001b[1;33m.\u001b[0m\u001b[0madd\u001b[0m\u001b[1;33m(\u001b[0m\u001b[0mG\u001b[0m\u001b[1;33m,\u001b[0m\u001b[0mC\u001b[0m\u001b[1;33m,\u001b[0m\u001b[0mG\u001b[0m\u001b[1;33m)\u001b[0m\u001b[1;33m\u001b[0m\u001b[1;33m\u001b[0m\u001b[0m\n\u001b[0m\u001b[0;32m     17\u001b[0m \u001b[0mG\u001b[0m \u001b[1;33m=\u001b[0m \u001b[0mA\u001b[0m \u001b[1;33m+\u001b[0m \u001b[0mB\u001b[0m\u001b[1;33m;\u001b[0m \u001b[0madd\u001b[0m\u001b[1;33m(\u001b[0m\u001b[0mG\u001b[0m\u001b[1;33m,\u001b[0m \u001b[0mC\u001b[0m\u001b[1;33m,\u001b[0m \u001b[0mG\u001b[0m\u001b[1;33m)\u001b[0m\u001b[1;33m\u001b[0m\u001b[1;33m\u001b[0m\u001b[0m\n",
      "\u001b[1;31mTypeError\u001b[0m: Cannot cast ufunc add output from dtype('float64') to dtype('int32') with casting rule 'same_kind'"
     ]
    }
   ],
   "source": [
    "# 2.7. 범용함수 1) 범용 함수 --- p.20\n",
    "A = np.array([10,20,30])\n",
    "B = np.arange(3)\n",
    "C = np.array([2.,-1.,4.])\n",
    "\n",
    "print(A,B,C)\n",
    "print('\\n')\n",
    "\n",
    "G = A*B + C\n",
    "print('G : ',G)\n",
    "\n",
    "T1 = A * B; G = T1 + C; del T1\n",
    "print('G : ',G)\n",
    "\n",
    "#세미콜론(;)은 한 라인에 여러 표현식을 작성할 때\n",
    "\n"
   ]
  },
  {
   "cell_type": "code",
   "execution_count": 244,
   "metadata": {},
   "outputs": [
    {
     "ename": "TypeError",
     "evalue": "Cannot cast ufunc add output from dtype('float64') to dtype('int32') with casting rule 'same_kind'",
     "output_type": "error",
     "traceback": [
      "\u001b[1;31m---------------------------------------------------------------------------\u001b[0m",
      "\u001b[1;31mTypeError\u001b[0m                                 Traceback (most recent call last)",
      "\u001b[1;32m<ipython-input-244-e1f7898f4e79>\u001b[0m in \u001b[0;36m<module>\u001b[1;34m\u001b[0m\n\u001b[1;32m----> 1\u001b[1;33m \u001b[0mG\u001b[0m \u001b[1;33m=\u001b[0m \u001b[0mA\u001b[0m\u001b[1;33m*\u001b[0m\u001b[0mB\u001b[0m\u001b[1;33m;\u001b[0m \u001b[0mnp\u001b[0m\u001b[1;33m.\u001b[0m\u001b[0madd\u001b[0m\u001b[1;33m(\u001b[0m\u001b[0mG\u001b[0m\u001b[1;33m,\u001b[0m\u001b[0mC\u001b[0m\u001b[1;33m,\u001b[0m\u001b[0mG\u001b[0m\u001b[1;33m)\u001b[0m\u001b[1;33m\u001b[0m\u001b[1;33m\u001b[0m\u001b[0m\n\u001b[0m",
      "\u001b[1;31mTypeError\u001b[0m: Cannot cast ufunc add output from dtype('float64') to dtype('int32') with casting rule 'same_kind'"
     ]
    }
   ],
   "source": [
    "G = A*B; np.add(G,C,G)"
   ]
  },
  {
   "cell_type": "code",
   "execution_count": 247,
   "metadata": {},
   "outputs": [
    {
     "name": "stdout",
     "output_type": "stream",
     "text": [
      "Collecting memory_profiler\n",
      "  Downloading https://files.pythonhosted.org/packages/8f/fd/d92b3295657f8837e0177e7b48b32d6651436f0293af42b76d134c3bb489/memory_profiler-0.58.0.tar.gz\n",
      "Requirement already satisfied: psutil in c:\\users\\0114m\\anaconda3\\lib\\site-packages (from memory_profiler) (5.6.1)\n",
      "Building wheels for collected packages: memory-profiler\n",
      "  Building wheel for memory-profiler (setup.py): started\n",
      "  Building wheel for memory-profiler (setup.py): finished with status 'done'\n",
      "  Stored in directory: C:\\Users\\0114m\\AppData\\Local\\pip\\Cache\\wheels\\02\\e4\\0b\\aaab481fc5dd2a4ea59e78bc7231bb6aae7635ca7ee79f8ae5\n",
      "Successfully built memory-profiler\n",
      "Installing collected packages: memory-profiler\n",
      "Successfully installed memory-profiler-0.58.0\n",
      "Note: you may need to restart the kernel to use updated packages.\n"
     ]
    }
   ],
   "source": [
    "#pip install memory_profiler"
   ]
  },
  {
   "cell_type": "code",
   "execution_count": 4,
   "metadata": {
    "scrolled": true
   },
   "outputs": [],
   "source": [
    "%load_ext memory_profiler\n",
    "import numpy as np"
   ]
  },
  {
   "cell_type": "code",
   "execution_count": 5,
   "metadata": {},
   "outputs": [],
   "source": [
    "A = np.random.randn(100000000)\n",
    "B = np.random.randn(100000000)\n",
    "C = np.random.randn(100000000)"
   ]
  },
  {
   "cell_type": "code",
   "execution_count": 6,
   "metadata": {},
   "outputs": [
    {
     "name": "stdout",
     "output_type": "stream",
     "text": [
      "peak memory: 1845.13 MiB, increment: 389.05 MiB\n",
      "[-0.85071649  0.32437347  1.49395283 ... -0.87292855 -0.27720546\n",
      " -1.97016523]\n",
      "Wall time: 20.2 s\n"
     ]
    }
   ],
   "source": [
    "%%time\n",
    "%memit G = A * B + C\n",
    "print(G)"
   ]
  },
  {
   "cell_type": "code",
   "execution_count": 9,
   "metadata": {},
   "outputs": [
    {
     "name": "stdout",
     "output_type": "stream",
     "text": [
      "a \n",
      " [[[0 1]\n",
      "  [2 3]]\n",
      "\n",
      " [[4 5]\n",
      "  [6 7]]]\n",
      "b \n",
      " [0 1]\n",
      "a+b \n",
      " [[[0 2]\n",
      "  [2 4]]\n",
      "\n",
      " [[4 6]\n",
      "  [6 8]]]\n"
     ]
    }
   ],
   "source": [
    "from numpy import array, newaxis\n",
    "a = np.arange(8).reshape(2,2,2)\n",
    "b = np.arange(2)\n",
    "print('a','\\n',a)\n",
    "print('b','\\n',b)\n",
    "print('a+b','\\n',a+b)"
   ]
  },
  {
   "cell_type": "code",
   "execution_count": 18,
   "metadata": {},
   "outputs": [
    {
     "name": "stdout",
     "output_type": "stream",
     "text": [
      "[[ 1  2  3  4]\n",
      " [ 5  6  7  8]\n",
      " [ 9 10 11 12]]\n",
      "a[0,1] :  2\n",
      "a[0][1] :  2\n",
      "a[0:2][1] : [5 6 7 8]\n"
     ]
    }
   ],
   "source": [
    "a = np.arange(1,13).reshape(3,4)\n",
    "print(a)\n",
    "print('a[0,1] : ',a[0,1])\n",
    "print('a[0][1] : ',a[0][1])\n",
    "print('a[0:2][1] :',a[0:2][1])"
   ]
  },
  {
   "cell_type": "code",
   "execution_count": 19,
   "metadata": {},
   "outputs": [
    {
     "data": {
      "text/plain": [
       "array([[ 1,  2,  3,  4],\n",
       "       [ 5,  6,  7,  8],\n",
       "       [ 9, 10, 11, 12]])"
      ]
     },
     "execution_count": 19,
     "metadata": {},
     "output_type": "execute_result"
    }
   ],
   "source": [
    "a"
   ]
  },
  {
   "cell_type": "code",
   "execution_count": 25,
   "metadata": {},
   "outputs": [
    {
     "data": {
      "text/plain": [
       "array([2, 6])"
      ]
     },
     "execution_count": 25,
     "metadata": {},
     "output_type": "execute_result"
    }
   ],
   "source": [
    "a[0:2, 1]"
   ]
  },
  {
   "cell_type": "code",
   "execution_count": 26,
   "metadata": {},
   "outputs": [
    {
     "data": {
      "text/plain": [
       "(array([ 0., 10., 20., 30.]), array([1., 2., 3.]))"
      ]
     },
     "execution_count": 26,
     "metadata": {},
     "output_type": "execute_result"
    }
   ],
   "source": [
    "from numpy import array, newaxis\n",
    "a = array([0.0,10.,20.0,30.0])\n",
    "b = array([1.0,2.0,3.0])\n",
    "a,b"
   ]
  },
  {
   "cell_type": "code",
   "execution_count": 29,
   "metadata": {},
   "outputs": [
    {
     "data": {
      "text/plain": [
       "array([[ 0.],\n",
       "       [10.],\n",
       "       [20.],\n",
       "       [30.]])"
      ]
     },
     "execution_count": 29,
     "metadata": {},
     "output_type": "execute_result"
    }
   ],
   "source": [
    "a_new = a[:,newaxis]\n",
    "a_new"
   ]
  },
  {
   "cell_type": "code",
   "execution_count": 33,
   "metadata": {},
   "outputs": [
    {
     "data": {
      "text/plain": [
       "((4,), (4, 1), (3,))"
      ]
     },
     "execution_count": 33,
     "metadata": {},
     "output_type": "execute_result"
    }
   ],
   "source": [
    "a.shape,a_new.shape, b.shape"
   ]
  },
  {
   "cell_type": "markdown",
   "metadata": {},
   "source": [
    "## 3절. 배열 합치기/분할하기 --- p.29"
   ]
  },
  {
   "cell_type": "code",
   "execution_count": 36,
   "metadata": {},
   "outputs": [
    {
     "name": "stdout",
     "output_type": "stream",
     "text": [
      "a :  [  0   1   8  27  64 125 216 343 512 729]\n",
      "a[2] :  8\n",
      "a[-2] :  512\n"
     ]
    }
   ],
   "source": [
    "# 3.1. 인덱싱과 슬라이싱 1) 인덱싱 --- p.30\n",
    "a = np.arange(10)**3\n",
    "print('a : ',a)\n",
    "print('\\n')\n",
    "print('a[2] : ', a[2])\n",
    "print('a[-2] : ', a[-2])"
   ]
  },
  {
   "cell_type": "code",
   "execution_count": 42,
   "metadata": {},
   "outputs": [
    {
     "name": "stdout",
     "output_type": "stream",
     "text": [
      "a :  [  0   1   8  27  64 125 216 343 512 729]\n",
      "\n",
      "\n",
      "a[2:5] : [ 8 27 64]\n",
      "a[0:7:2] : [  0   8  64 216]\n",
      "\n",
      "\n",
      "a :  [-1000     1 -1000    27 -1000   125   216   343   512   729]\n"
     ]
    }
   ],
   "source": [
    "# 3.1. 인덱싱과 슬라이싱 2) 슬라이싱 --- p.30\n",
    "print('a : ',a)\n",
    "print('\\n')\n",
    "print('a[2:5] :',a[2:5])\n",
    "print('a[0:7:2] :',a[0:7:2])\n",
    "print('\\n')\n",
    "a[:6:2]=-1000\n",
    "print('a : ',a)"
   ]
  },
  {
   "cell_type": "code",
   "execution_count": 12,
   "metadata": {},
   "outputs": [
    {
     "data": {
      "text/plain": [
       "array([[ 0,  1,  2,  3],\n",
       "       [10, 11, 12, 13],\n",
       "       [20, 21, 22, 23],\n",
       "       [30, 31, 32, 33],\n",
       "       [40, 41, 42, 43]])"
      ]
     },
     "execution_count": 12,
     "metadata": {},
     "output_type": "execute_result"
    }
   ],
   "source": [
    "# 3.1. 인덱싱과 슬라이싱 3) 다차원 배열 인덱싱 --- p.31\n",
    "def f(x,y): #(행값, 열값)\n",
    "    return 10*x+y\n",
    "\n",
    "b = np.fromfunction(f, (5,4), dtype=int)\n",
    "b"
   ]
  },
  {
   "cell_type": "code",
   "execution_count": 2,
   "metadata": {},
   "outputs": [
    {
     "data": {
      "text/plain": [
       "array([[ 0,  1,  2,  3],\n",
       "       [ 4,  5,  6,  7],\n",
       "       [ 8,  9, 10, 11],\n",
       "       [12, 13, 14, 15],\n",
       "       [16, 17, 18, 19]])"
      ]
     },
     "execution_count": 2,
     "metadata": {},
     "output_type": "execute_result"
    }
   ],
   "source": [
    "#import numpy as np\n",
    "a = np.arange(20).reshape(5,4)\n",
    "a"
   ]
  },
  {
   "cell_type": "code",
   "execution_count": 10,
   "metadata": {},
   "outputs": [
    {
     "name": "stdout",
     "output_type": "stream",
     "text": [
      "c : \n",
      " [[[ 0  1  2  3]\n",
      "  [ 4  5  6  7]\n",
      "  [ 8  9 10 11]]\n",
      "\n",
      " [[12 13 14 15]\n",
      "  [16 17 18 19]\n",
      "  [20 21 22 23]]]\n",
      "\n",
      "\n",
      "c[0,1,2] :  6\n",
      "c[1,2,3] :  23\n"
     ]
    }
   ],
   "source": [
    "c = np.arange(24).reshape(2,3,4)\n",
    "print('c :','\\n',c)\n",
    "print('\\n')\n",
    "print('c[0,1,2] : ',c[0,1,2])\n",
    "print('c[1,2,3] : ',c[1,2,3])"
   ]
  },
  {
   "cell_type": "code",
   "execution_count": 33,
   "metadata": {},
   "outputs": [
    {
     "name": "stdout",
     "output_type": "stream",
     "text": [
      "b : \n",
      " [[ 0  1  2  3]\n",
      " [10 11 12 13]\n",
      " [20 21 22 23]\n",
      " [30 31 32 33]\n",
      " [40 41 42 43]]\n",
      "--------------------------------------------------------------------------------\n",
      "b[0:5,1] : \n",
      " [ 1 11 21 31 41]\n",
      "b[:,1] : \n",
      " [ 1 11 21 31 41]\n",
      "-> 결과값이 같음\n",
      "--------------------------------------------------------------------------------\n",
      "b[0:5][1] : \n",
      " [10 11 12 13]\n",
      "-> [0:5]를 뽑아낸 것 중에서 [1] 인덱싱\n",
      "--------------------------------------------------------------------------------\n",
      "b[1:3,:] : \n",
      " [[10 11 12 13]\n",
      " [20 21 22 23]]\n"
     ]
    }
   ],
   "source": [
    "# 3.1. 인덱싱과 슬라이싱 4) 다차원 배열 슬라이싱 --- p.33\n",
    "#b = np.fromfunction(f, (5,4), dtype=int)\n",
    "print('b :', '\\n', b)\n",
    "print('-'*80)\n",
    "print('b[0:5,1] :', '\\n', b[0:5,1])\n",
    "print('b[:,1] :', '\\n', b[:,1])\n",
    "print('-> 결과값이 같음')\n",
    "print('-'*80)\n",
    "print('b[0:5][1] :', '\\n', b[0:5][1])\n",
    "print('-> [0:5]를 뽑아낸 것 중에서 [1] 인덱싱')\n",
    "print('-'*80)\n",
    "print('b[1:3,:] :', '\\n', b[1:3,:])# b의 두 번째와 세 번째 행에서 모든 열"
   ]
  },
  {
   "cell_type": "code",
   "execution_count": 36,
   "metadata": {},
   "outputs": [
    {
     "name": "stdout",
     "output_type": "stream",
     "text": [
      "c : \n",
      " [[[ 0  1  2  3]\n",
      "  [ 4  5  6  7]\n",
      "  [ 8  9 10 11]]\n",
      "\n",
      " [[12 13 14 15]\n",
      "  [16 17 18 19]\n",
      "  [20 21 22 23]]]\n",
      "--------------------------------------------------------------------------------\n",
      "c[0] : \n",
      " [[ 0  1  2  3]\n",
      " [ 4  5  6  7]\n",
      " [ 8  9 10 11]]\n",
      "c[0,0] : \n",
      " [0 1 2 3]\n",
      "c[0,0] : \n",
      " [0 1 2 3]\n",
      "c[...,0] : \n",
      " [[ 0  4  8]\n",
      " [12 16 20]]\n",
      "--------------------------------------------------------------------------------\n",
      "--------------------------------------------------------------------------------\n",
      "--------------------------------------------------------------------------------\n"
     ]
    }
   ],
   "source": [
    "# 3.1. 인덱싱과 슬라이싱 5) 축 인덱스의 생략 --- p.34\n",
    "print('c :','\\n',c)\n",
    "print('-'*80)\n",
    "print('c[0] :','\\n',c[0])\n",
    "print('c[0,0] :','\\n',c[0,0])\n",
    "print('c[0,0] :','\\n',c[0,0])\n",
    "print('c[...,0] :','\\n',c[...,0])\n",
    "'''\n",
    "x[1,2,...] = x[1,2,:,:,:] or x[1,2]\n",
    "x[...,3] = x[:,:,:,:,3] *이것은 x[3]과 다름. \n",
    "x[4,...,5,:] = x[4,:,:,5,:]\n",
    "'''\n",
    "print('-'*80)\n",
    "\n",
    "print('-'*80)\n",
    "print('-'*80)"
   ]
  },
  {
   "cell_type": "code",
   "execution_count": 37,
   "metadata": {},
   "outputs": [
    {
     "data": {
      "text/plain": [
       "array([[[[[ 0,  1],\n",
       "          [ 2,  3]],\n",
       "\n",
       "         [[ 4,  5],\n",
       "          [ 6,  7]]],\n",
       "\n",
       "\n",
       "        [[[ 8,  9],\n",
       "          [10, 11]],\n",
       "\n",
       "         [[12, 13],\n",
       "          [14, 15]]]],\n",
       "\n",
       "\n",
       "\n",
       "       [[[[16, 17],\n",
       "          [18, 19]],\n",
       "\n",
       "         [[20, 21],\n",
       "          [22, 23]]],\n",
       "\n",
       "\n",
       "        [[[24, 25],\n",
       "          [26, 27]],\n",
       "\n",
       "         [[28, 29],\n",
       "          [30, 31]]]]])"
      ]
     },
     "execution_count": 37,
     "metadata": {},
     "output_type": "execute_result"
    }
   ],
   "source": [
    "d = np.arange(32).reshape(2,2,2,2,2)\n",
    "d"
   ]
  },
  {
   "cell_type": "code",
   "execution_count": null,
   "metadata": {},
   "outputs": [],
   "source": [
    "# 3.1. 인덱싱과 슬라이싱 6) 다차원 배열 반복 --- p.35\n"
   ]
  },
  {
   "cell_type": "code",
   "execution_count": 45,
   "metadata": {},
   "outputs": [
    {
     "name": "stdout",
     "output_type": "stream",
     "text": [
      "c : \n",
      " [[[ 0  1  2  3]\n",
      "  [ 4  5  6  7]\n",
      "  [ 8  9 10 11]]\n",
      "\n",
      " [[12 13 14 15]\n",
      "  [16 17 18 19]\n",
      "  [20 21 22 23]]]\n",
      "--------------------------------------------------\n",
      "a : \n",
      " [[ 0  1  2  3]\n",
      " [ 4  5  6  7]\n",
      " [ 8  9 10 11]]\n",
      "--------------------------------------------------\n",
      "b : \n",
      " [[12 13 14 15]\n",
      " [16 17 18 19]\n",
      " [20 21 22 23]]\n"
     ]
    }
   ],
   "source": [
    "# 3.2. 두 배열을 쌓아 합치기 1) vstack(),hstack(), dstack() --- p. 37\n",
    "c = np.arange(24).reshape(2,3,4) # 3차원 배열\n",
    "print('c :', '\\n',c)\n",
    "print('-'*50)\n",
    "a, b = c[0], c[1]\n",
    "print('a :', '\\n',a)\n",
    "print('-'*50)\n",
    "print('b :', '\\n',b)"
   ]
  },
  {
   "cell_type": "code",
   "execution_count": 43,
   "metadata": {},
   "outputs": [
    {
     "data": {
      "text/plain": [
       "array([[ 0,  1,  2,  3],\n",
       "       [ 4,  5,  6,  7],\n",
       "       [ 8,  9, 10, 11],\n",
       "       [12, 13, 14, 15],\n",
       "       [16, 17, 18, 19],\n",
       "       [20, 21, 22, 23]])"
      ]
     },
     "execution_count": 43,
     "metadata": {},
     "output_type": "execute_result"
    }
   ],
   "source": [
    "np.vstack((a,b)) #위에서 아래로 배열을 쌓음"
   ]
  },
  {
   "cell_type": "code",
   "execution_count": 44,
   "metadata": {},
   "outputs": [
    {
     "data": {
      "text/plain": [
       "array([[ 0,  1,  2,  3, 12, 13, 14, 15],\n",
       "       [ 4,  5,  6,  7, 16, 17, 18, 19],\n",
       "       [ 8,  9, 10, 11, 20, 21, 22, 23]])"
      ]
     },
     "execution_count": 44,
     "metadata": {},
     "output_type": "execute_result"
    }
   ],
   "source": [
    "np.hstack((a,b)) #왼쪽에서 오른쪽으로 배열을 쌓음"
   ]
  },
  {
   "cell_type": "code",
   "execution_count": 46,
   "metadata": {},
   "outputs": [
    {
     "data": {
      "text/plain": [
       "array([[[ 0, 12],\n",
       "        [ 1, 13],\n",
       "        [ 2, 14],\n",
       "        [ 3, 15]],\n",
       "\n",
       "       [[ 4, 16],\n",
       "        [ 5, 17],\n",
       "        [ 6, 18],\n",
       "        [ 7, 19]],\n",
       "\n",
       "       [[ 8, 20],\n",
       "        [ 9, 21],\n",
       "        [10, 22],\n",
       "        [11, 23]]])"
      ]
     },
     "execution_count": 46,
     "metadata": {},
     "output_type": "execute_result"
    }
   ],
   "source": [
    "np.dstack((a,b))"
   ]
  },
  {
   "cell_type": "code",
   "execution_count": 54,
   "metadata": {},
   "outputs": [
    {
     "name": "stdout",
     "output_type": "stream",
     "text": [
      "a : [1 2 3 4]\n",
      "b : [5 6 7 8]\n",
      "--------------------------------------------------\n",
      "c_stk : \n",
      " [[1 5]\n",
      " [2 6]\n",
      " [3 7]\n",
      " [4 8]]\n"
     ]
    }
   ],
   "source": [
    "# 3.2. 두 배열을 쌓아 합치기 2) column_stack() --- p. 39\n",
    "a = np.array( (1, 2, 3, 4) )\n",
    "b = np.array( (5, 6, 7, 8) )\n",
    "c = np.array( (9,10,11,12) )\n",
    "print('a :', a)\n",
    "print('b :', b)\n",
    "print('-'*50)\n",
    "# column_stack():1차원 배열을 열단위로 배열해 2차원 배열로!\n",
    "c_stk = np.column_stack((a,b))\n",
    "print('c_stk :','\\n',c_stk)"
   ]
  },
  {
   "cell_type": "code",
   "execution_count": 60,
   "metadata": {
    "scrolled": true
   },
   "outputs": [
    {
     "name": "stdout",
     "output_type": "stream",
     "text": [
      "a : \n",
      " [[0 1 2]\n",
      " [3 4 5]\n",
      " [6 7 8]]\n",
      "b : \n",
      " [[ 9 10 11]\n",
      " [12 13 14]\n",
      " [15 16 17]]\n",
      "c : \n",
      " [[18 19 20]\n",
      " [21 22 23]\n",
      " [24 25 26]]\n",
      "--------------------------------------------------\n",
      "c_stk : \n",
      " [[ 0  1  2  9 10 11 18 19 20]\n",
      " [ 3  4  5 12 13 14 21 22 23]\n",
      " [ 6  7  8 15 16 17 24 25 26]]\n",
      "1차원일 때는 컬럼 별로 붙여서 만들어지는데, 2차원인 경우 그냥 갖다 붙임\n"
     ]
    }
   ],
   "source": [
    "a = np.arange(9).reshape(3,3)\n",
    "b = np.arange(9,18).reshape(3,3)\n",
    "c = np.arange(18,27).reshape(3,3)\n",
    "print('a :','\\n', a)\n",
    "print('b :','\\n', b)\n",
    "print('c :','\\n', c)\n",
    "print('-'*50)\n",
    "c_stk = np.column_stack((a,b,c))\n",
    "print('c_stk :','\\n',c_stk)\n",
    "print('1차원일 때는 컬럼 별로 붙여서 만들어지는데, 2차원인 경우 그냥 갖다 붙임')\n"
   ]
  },
  {
   "cell_type": "code",
   "execution_count": 74,
   "metadata": {},
   "outputs": [
    {
     "name": "stdout",
     "output_type": "stream",
     "text": [
      "a : [1 2 3 4]\n",
      "--------------------------------------------------\n",
      "a[:,np.newaxis] : \n",
      " [[1]\n",
      " [2]\n",
      " [3]\n",
      " [4]]\n",
      "--------------------------------------------------\n",
      "b : \n",
      " [[2]\n",
      " [3]]\n",
      "b.shape : (2, 1)\n"
     ]
    }
   ],
   "source": [
    "# 3.2. 두 배열을 쌓아 합치기 3) newaxis 속성 --- p. 40\n",
    "a = np.array((1,2,3,4))\n",
    "print('a :', a)\n",
    "print('-'*50)\n",
    "print('a[:,np.newaxis] :','\\n', a[:,np.newaxis])#4x1\n",
    "print('-'*50)\n",
    "b = a[[1,2],np.newaxis]\n",
    "print('b :','\\n', b)\n",
    "print('b.shape :',b.shape)"
   ]
  },
  {
   "cell_type": "code",
   "execution_count": 88,
   "metadata": {},
   "outputs": [
    {
     "name": "stdout",
     "output_type": "stream",
     "text": [
      "[[1 5]\n",
      " [2 6]\n",
      " [3 7]\n",
      " [4 8]]\n",
      "--------------------------------------------------\n",
      "[[1 5]\n",
      " [2 6]\n",
      " [3 7]\n",
      " [4 8]]\n",
      "--------------------------------------------------\n",
      "[1 2 3 4 5 6 7 8]\n",
      "[[1 2 3 4]\n",
      " [5 6 7 8]]\n",
      "--------------------------------------------------\n",
      "[[1 2 3 4]\n",
      " [5 6 7 8]]\n",
      "[[1 5]\n",
      " [2 6]\n",
      " [3 7]\n",
      " [4 8]]\n"
     ]
    }
   ],
   "source": [
    "a = np.array((1,2,3,4))\n",
    "b = np.array((5,6,7,8))\n",
    "c = np.column_stack((a,b))\n",
    "print(c)\n",
    "print('-'*50)\n",
    "cn = np.column_stack((a[:,np.newaxis],b[:,np.newaxis]))\n",
    "print(cn)\n",
    "print('-'*50)\n",
    "h = np.hstack((a,b))\n",
    "print(h)\n",
    "r = np.row_stack((a,b))\n",
    "print(r)\n",
    "print('-'*50)\n",
    "v = np.vstack((a,b))\n",
    "print(v)\n",
    "vn = np.column_stack((a[:,np.newaxis],b[:,np.newaxis]))\n",
    "print(vn)\n"
   ]
  },
  {
   "cell_type": "code",
   "execution_count": 96,
   "metadata": {},
   "outputs": [
    {
     "name": "stdout",
     "output_type": "stream",
     "text": [
      "a : \n",
      " [[ 0  1  2  3]\n",
      " [ 4  5  6  7]\n",
      " [ 8  9 10 11]]\n",
      "b : \n",
      " [[12 13 14 15]\n",
      " [16 17 18 19]\n",
      " [20 21 22 23]]\n",
      "--------------------------------------------------\n",
      "axis0 : \n",
      " [[[ 0  1  2  3]\n",
      "  [ 4  5  6  7]\n",
      "  [ 8  9 10 11]]\n",
      "\n",
      " [[12 13 14 15]\n",
      "  [16 17 18 19]\n",
      "  [20 21 22 23]]]\n",
      "-> shape=(3,4)인 배열 두 개 합쳐져 shape=(2,3,4)\n",
      "--------------------------------------------------\n",
      "axis1 : \n",
      " [[[ 0  1  2  3]\n",
      "  [12 13 14 15]]\n",
      "\n",
      " [[ 4  5  6  7]\n",
      "  [16 17 18 19]]\n",
      "\n",
      " [[ 8  9 10 11]\n",
      "  [20 21 22 23]]]\n",
      "--------------------------------------------------\n",
      "axis2 : \n",
      " [[[ 0 12]\n",
      "  [ 1 13]\n",
      "  [ 2 14]\n",
      "  [ 3 15]]\n",
      "\n",
      " [[ 4 16]\n",
      "  [ 5 17]\n",
      "  [ 6 18]\n",
      "  [ 7 19]]\n",
      "\n",
      " [[ 8 20]\n",
      "  [ 9 21]\n",
      "  [10 22]\n",
      "  [11 23]]]\n"
     ]
    }
   ],
   "source": [
    "# p.42\n",
    "a = np.arange(12).reshape(3,4)\n",
    "b = np.arange(12,24).reshape(3,4)\n",
    "print('a :','\\n', a)\n",
    "print('b :','\\n', b)\n",
    "print('-'*50)\n",
    "axis0 = np.stack((a,b), axis = 0)\n",
    "print('axis0 :','\\n', axis0)\n",
    "print('-> shape=(3,4)인 배열 두 개 합쳐져 shape=(2,3,4)')\n",
    "print('-'*50)\n",
    "axis1 = np.stack((a,b), axis = 1)\n",
    "print('axis1 :','\\n', axis1)\n",
    "print('-'*50)\n",
    "axis2 = np.stack((a,b), axis = 2)\n",
    "print('axis2 :','\\n', axis2)"
   ]
  },
  {
   "cell_type": "code",
   "execution_count": 102,
   "metadata": {},
   "outputs": [
    {
     "name": "stdout",
     "output_type": "stream",
     "text": [
      "a : [1 2 3 4]\n",
      "b : [5 6 7 8]\n",
      "c : [ 9 10 11 12]\n",
      "--------------------------------------------------\n",
      "[[ 1  2  3  4]\n",
      " [ 5  6  7  8]\n",
      " [ 9 10 11 12]]\n",
      "\n",
      "\n",
      "a2 : \n",
      " [[1]\n",
      " [2]\n",
      " [3]\n",
      " [4]]\n",
      "b2 : \n",
      " [[5]\n",
      " [6]\n",
      " [7]\n",
      " [8]]\n"
     ]
    }
   ],
   "source": [
    "# 3.3. r_, c_ --- p. 44\n",
    "\n",
    "#r_와 c_ 객체:한 개의 축을 따라 번호를 나열해 배열을 만들 때 유용\n",
    "a = np.array( (1, 2, 3, 4) )\n",
    "b = np.array( (5, 6, 7, 8) )\n",
    "c = np.array( (9,10,11,12) )\n",
    "print('a :',a)\n",
    "print('b :',b)\n",
    "print('c :',c) \n",
    "print('-'*50)\n",
    "#r_() 함수 : 행 단위로 데이터를 쌓아줌\n",
    "r_ = np.r_[[a],[b],[c]]\n",
    "print(r_)\n",
    "print('\\n')\n",
    "a2 = a.reshape(4,1)\n",
    "print('a2 :','\\n',a2)\n",
    "b2 = b.reshape(4,1)\n",
    "print('b2 :','\\n',b2)\n",
    "a2 + b2"
   ]
  },
  {
   "cell_type": "code",
   "execution_count": 110,
   "metadata": {},
   "outputs": [
    {
     "name": "stdout",
     "output_type": "stream",
     "text": [
      "a : [[ 0  1  2  3]\n",
      " [ 4  5  6  7]\n",
      " [ 8  9 10 11]]\n",
      "--------------------------------------------------\n",
      "a_vsplit : [array([[0, 1, 2, 3]]), array([[4, 5, 6, 7]]), array([[ 8,  9, 10, 11]])]\n",
      "--------------------------------------------------\n",
      "a_hsplit : \n",
      " [array([[0, 1],\n",
      "       [4, 5],\n",
      "       [8, 9]]), array([[ 2,  3],\n",
      "       [ 6,  7],\n",
      "       [10, 11]])]\n"
     ]
    }
   ],
   "source": [
    "# 3.4. 하나의 배열을 여러 개의 작은 배열로 분할하기\n",
    "# 1) hsplit(),vsplit(),dsplit() --- p. 45\n",
    "a = np.arange(12).reshape(3,4)\n",
    "print('a :',a)\n",
    "print('-'*50)\n",
    "a_vsplit = np.vsplit(a,3)\n",
    "print('a_vsplit :',a_vsplit)\n",
    "print('-'*50)\n",
    "a_hsplit = np.hsplit(a,2)\n",
    "print('a_hsplit :','\\n', a_hsplit)"
   ]
  },
  {
   "cell_type": "code",
   "execution_count": 112,
   "metadata": {},
   "outputs": [
    {
     "name": "stdout",
     "output_type": "stream",
     "text": [
      "c : [[[ 0  1  2  3]\n",
      "  [ 4  5  6  7]\n",
      "  [ 8  9 10 11]]\n",
      "\n",
      " [[12 13 14 15]\n",
      "  [16 17 18 19]\n",
      "  [20 21 22 23]]]\n",
      "c_split : \n",
      " [array([[[ 0,  1,  2,  3]],\n",
      "\n",
      "       [[12, 13, 14, 15]]]), array([[[ 4,  5,  6,  7]],\n",
      "\n",
      "       [[16, 17, 18, 19]]]), array([[[ 8,  9, 10, 11]],\n",
      "\n",
      "       [[20, 21, 22, 23]]])]\n"
     ]
    }
   ],
   "source": [
    "# 3.4. 하나의 배열을 여러 개의 작은 배열로 분할하기\n",
    "# 2) hsplit()과 axis=1 --- p. 47\n",
    "c = np.arange(24).reshape(2,3,4) # 3차원 배열\n",
    "print('c :',c)\n",
    "c_split = np.hsplit(c,3)\n",
    "print('c_split :','\\n',c_split)"
   ]
  },
  {
   "cell_type": "code",
   "execution_count": 115,
   "metadata": {},
   "outputs": [
    {
     "name": "stdout",
     "output_type": "stream",
     "text": [
      "[[[ 0  1  2  3]\n",
      "  [ 4  5  6  7]\n",
      "  [ 8  9 10 11]]\n",
      "\n",
      " [[12 13 14 15]\n",
      "  [16 17 18 19]\n",
      "  [20 21 22 23]]]\n",
      "--------------------------------------------------\n",
      "[array([[[ 0,  1],\n",
      "        [ 4,  5],\n",
      "        [ 8,  9]],\n",
      "\n",
      "       [[12, 13],\n",
      "        [16, 17],\n",
      "        [20, 21]]]), array([[[ 2,  3],\n",
      "        [ 6,  7],\n",
      "        [10, 11]],\n",
      "\n",
      "       [[14, 15],\n",
      "        [18, 19],\n",
      "        [22, 23]]])]\n"
     ]
    }
   ],
   "source": [
    "#p48\n",
    "d = np.dsplit(c,2)\n",
    "print(c)\n",
    "print('-'*50)\n",
    "print(d)"
   ]
  },
  {
   "cell_type": "code",
   "execution_count": 124,
   "metadata": {},
   "outputs": [
    {
     "name": "stdout",
     "output_type": "stream",
     "text": [
      "b : \n",
      " [[ 0  1  2  3  4  5  6  7]\n",
      " [ 8  9 10 11 12 13 14 15]\n",
      " [16 17 18 19 20 21 22 23]]\n",
      "--------------------------------------------------\n",
      "b_split[0] : \n",
      " [[ 0  1]\n",
      " [ 8  9]\n",
      " [16 17]]\n",
      "b_split[1] : \n",
      " [[ 2  3  4]\n",
      " [10 11 12]\n",
      " [18 19 20]]\n",
      "b_split[2] : \n",
      " [[ 5]\n",
      " [13]\n",
      " [21]]\n",
      "b_split[3] : \n",
      " [[ 6  7]\n",
      " [14 15]\n",
      " [22 23]]\n"
     ]
    }
   ],
   "source": [
    "# 3.4. 하나의 배열을 여러 개의 작은 배열로 분할하기\n",
    "#3) 인덱스 목록으로 나누기 --- p. 49\n",
    "b = np.arange(24).reshape(3,8)\n",
    "print('b :','\\n',b)\n",
    "print('-'*50)\n",
    "b_split = np.hsplit(b,(2,5,6))\n",
    "# print('b_split :','\\n',b_split)\n",
    "print('b_split[0] :','\\n',b_split[0])\n",
    "print('b_split[1] :','\\n',b_split[1])\n",
    "print('b_split[2] :','\\n',b_split[2])\n",
    "print('b_split[3] :','\\n',b_split[3])"
   ]
  },
  {
   "cell_type": "code",
   "execution_count": 133,
   "metadata": {},
   "outputs": [
    {
     "data": {
      "text/plain": [
       "array([[ 0,  1,  2,  3,  4,  5,  6,  7],\n",
       "       [ 8,  9, 10, 11, 12, 13, 14, 15],\n",
       "       [16, 17, 18, 19, 20, 21, 22, 23]])"
      ]
     },
     "execution_count": 133,
     "metadata": {},
     "output_type": "execute_result"
    }
   ],
   "source": [
    "# 3.4. 하나의 배열을 여러 개의 작은 배열로 분할하기\n",
    "# 4) split() --- p. 51\n",
    "b"
   ]
  },
  {
   "cell_type": "code",
   "execution_count": 134,
   "metadata": {},
   "outputs": [
    {
     "data": {
      "text/plain": [
       "[array([[0, 1, 2, 3, 4, 5, 6, 7]]),\n",
       " array([[ 8,  9, 10, 11, 12, 13, 14, 15]]),\n",
       " array([[16, 17, 18, 19, 20, 21, 22, 23]])]"
      ]
     },
     "execution_count": 134,
     "metadata": {},
     "output_type": "execute_result"
    }
   ],
   "source": [
    "np.vsplit(b,3)"
   ]
  },
  {
   "cell_type": "code",
   "execution_count": 135,
   "metadata": {},
   "outputs": [
    {
     "data": {
      "text/plain": [
       "[array([[0, 1, 2, 3, 4, 5, 6, 7]]),\n",
       " array([[ 8,  9, 10, 11, 12, 13, 14, 15]]),\n",
       " array([[16, 17, 18, 19, 20, 21, 22, 23]])]"
      ]
     },
     "execution_count": 135,
     "metadata": {},
     "output_type": "execute_result"
    }
   ],
   "source": [
    "np.split(b,3)"
   ]
  },
  {
   "cell_type": "code",
   "execution_count": 136,
   "metadata": {},
   "outputs": [
    {
     "data": {
      "text/plain": [
       "array([[[ 0,  1,  2,  3],\n",
       "        [ 4,  5,  6,  7],\n",
       "        [ 8,  9, 10, 11]],\n",
       "\n",
       "       [[12, 13, 14, 15],\n",
       "        [16, 17, 18, 19],\n",
       "        [20, 21, 22, 23]]])"
      ]
     },
     "execution_count": 136,
     "metadata": {},
     "output_type": "execute_result"
    }
   ],
   "source": [
    "c = np.arange(24).reshape(2,3,4)\n",
    "c"
   ]
  },
  {
   "cell_type": "code",
   "execution_count": 137,
   "metadata": {},
   "outputs": [
    {
     "data": {
      "text/plain": [
       "[array([[[ 0,  1],\n",
       "         [ 4,  5],\n",
       "         [ 8,  9]],\n",
       " \n",
       "        [[12, 13],\n",
       "         [16, 17],\n",
       "         [20, 21]]]), array([[[ 2,  3],\n",
       "         [ 6,  7],\n",
       "         [10, 11]],\n",
       " \n",
       "        [[14, 15],\n",
       "         [18, 19],\n",
       "         [22, 23]]])]"
      ]
     },
     "execution_count": 137,
     "metadata": {},
     "output_type": "execute_result"
    }
   ],
   "source": [
    "np.dsplit(c, 2)"
   ]
  },
  {
   "cell_type": "code",
   "execution_count": 138,
   "metadata": {},
   "outputs": [
    {
     "data": {
      "text/plain": [
       "[array([[[ 0,  1],\n",
       "         [ 4,  5],\n",
       "         [ 8,  9]],\n",
       " \n",
       "        [[12, 13],\n",
       "         [16, 17],\n",
       "         [20, 21]]]), array([[[ 2,  3],\n",
       "         [ 6,  7],\n",
       "         [10, 11]],\n",
       " \n",
       "        [[14, 15],\n",
       "         [18, 19],\n",
       "         [22, 23]]])]"
      ]
     },
     "execution_count": 138,
     "metadata": {},
     "output_type": "execute_result"
    }
   ],
   "source": [
    "np.split(c, 2, axis=2)"
   ]
  },
  {
   "cell_type": "code",
   "execution_count": 139,
   "metadata": {},
   "outputs": [
    {
     "data": {
      "text/plain": [
       "array([[ 0,  1,  2,  3,  4,  5,  6,  7,  8,  9],\n",
       "       [10, 11, 12, 13, 14, 15, 16, 17, 18, 19]])"
      ]
     },
     "execution_count": 139,
     "metadata": {},
     "output_type": "execute_result"
    }
   ],
   "source": [
    "# 3.4. 하나의 배열을 여러 개의 작은 배열로 분할하기\n",
    "# 5) array_split() --- p. 53\n",
    "#import numpy as np\n",
    "a = np.arange(20).reshape(2,10)\n",
    "a"
   ]
  },
  {
   "cell_type": "code",
   "execution_count": 143,
   "metadata": {},
   "outputs": [
    {
     "data": {
      "text/plain": [
       "[array([[ 0,  1,  2,  3,  4],\n",
       "        [10, 11, 12, 13, 14]]), array([[ 5,  6,  7,  8,  9],\n",
       "        [15, 16, 17, 18, 19]])]"
      ]
     },
     "execution_count": 143,
     "metadata": {},
     "output_type": "execute_result"
    }
   ],
   "source": [
    "np.split(a, 2, axis=1)"
   ]
  },
  {
   "cell_type": "code",
   "execution_count": null,
   "metadata": {},
   "outputs": [],
   "source": [
    "np.array_split(a, 3, axis=0)\n",
    "#array_split() 함수를 이용하면 에러가 발생하지 않습니다. 배열 a는 axis=1 에 해당하는 길\n",
    "#이 10인 배열을 3개로 분할하려 한다면 길이가 각각 4,3,3인 배열로"
   ]
  },
  {
   "cell_type": "markdown",
   "metadata": {},
   "source": [
    "## 4절. 복사와 뷰 --- p. 55"
   ]
  },
  {
   "cell_type": "code",
   "execution_count": 22,
   "metadata": {},
   "outputs": [
    {
     "name": "stdout",
     "output_type": "stream",
     "text": [
      "a : [ 0  1  2  3  4  5  6  7  8  9 10 11]\n",
      "b : [ 0  1  2  3  4  5  6  7  8  9 10 11]\n",
      "b is a : True \n",
      " -> a와 b는 같은 ndarray 객체이지만 이름은 다름\n",
      "id(b) : 2035516932544 id(a) : 2035516932544 -> 주소값 같음\n",
      "--------------------------------------------------\n",
      "b : \n",
      " [ 0  1  0  3  0  5  0  7  0  9  0 11]\n",
      "a : \n",
      " [ 0  1  0  3  0  5  0  7  0  9  0 11] \n",
      " -> b 변경 but a도 바뀜\n",
      "--------------------------------------------------\n",
      "b.shape : (3, 4)\n",
      "a.shape : (3, 4) \n",
      " -> b차원 변경 but a차원도 바뀜\n"
     ]
    }
   ],
   "source": [
    "# 4.1. 모두 복사 안 함 --- p.55\n",
    "#import numpy as np\n",
    "a = np.arange(12)\n",
    "b = a # 새로운 객체 생성\n",
    "print('a :',a)\n",
    "print('b :',b)\n",
    "print('b is a :',b is a, '\\n', '-> a와 b는 같은 ndarray 객체이지만 이름은 다름') # a와 b는 같은 ndarray 객체이지만 이름은 다름\n",
    "print('id(b) :',id(b), 'id(a) :',id(a), '-> 주소값 같음')\n",
    "print('-'*50)\n",
    "b[::2]=0\n",
    "print('b :','\\n',b)\n",
    "print('a :','\\n',a,'\\n', '-> b 변경 but a도 바뀜')\n",
    "print('-'*50)\n",
    "b.shape = 3,4 # a 배열의 차원 변경\n",
    "print('b.shape :', b.shape)\n",
    "print('a.shape :', a.shape,'\\n', '-> b차원 변경 but a차원도 바뀜')"
   ]
  },
  {
   "cell_type": "code",
   "execution_count": 31,
   "metadata": {},
   "outputs": [
    {
     "name": "stdout",
     "output_type": "stream",
     "text": [
      "2035516932544\n"
     ]
    },
    {
     "data": {
      "text/plain": [
       "2035516932544"
      ]
     },
     "execution_count": 31,
     "metadata": {},
     "output_type": "execute_result"
    }
   ],
   "source": [
    "def f(x):\n",
    "    print(id(x))\n",
    "    \n",
    "f(a)\n",
    "id(a)"
   ]
  },
  {
   "cell_type": "code",
   "execution_count": null,
   "metadata": {},
   "outputs": [],
   "source": [
    "# 4.1. 모두 복사 안 함 --- p.55\n",
    "~\n",
    "# 4.2. 얕은 복사(view) --- p.56\n",
    "~\n",
    "# 4.2. 깊은 복사(copy) --- p.58\n"
   ]
  },
  {
   "cell_type": "markdown",
   "metadata": {},
   "source": [
    "## 5절. 고급 인덱싱 --- p.60"
   ]
  },
  {
   "cell_type": "code",
   "execution_count": null,
   "metadata": {},
   "outputs": [],
   "source": [
    "# 5.1. 인덱스 배열로 인덱싱 --- p.60"
   ]
  },
  {
   "cell_type": "code",
   "execution_count": 151,
   "metadata": {},
   "outputs": [
    {
     "name": "stdout",
     "output_type": "stream",
     "text": [
      "a : [  0   1   4   9  16  25  36  49  64  81 100 121]\n",
      "a[i] : [ 1  1  9 64 25]\n",
      "a[j] : \n",
      " [[ 9 16]\n",
      " [81 49]]\n"
     ]
    }
   ],
   "source": [
    "a = np.arange(12)**2\n",
    "print('a :', a)\n",
    "i = np.array( [ 1,1,3,8,5 ] ) # 인덱스 배열\n",
    "print('a[i] :', a[i])\n",
    "j = np.array( [ [ 3, 4], [ 9, 7 ] ] ) # 인덱스 2차원 배열\n",
    "print('a[j] :','\\n', a[j]) "
   ]
  },
  {
   "cell_type": "code",
   "execution_count": 153,
   "metadata": {},
   "outputs": [
    {
     "data": {
      "text/plain": [
       "array([[  0,   0,   0],\n",
       "       [255,   0,   0],\n",
       "       [  0, 255,   0],\n",
       "       [  0,   0, 255],\n",
       "       [255, 255, 255]])"
      ]
     },
     "execution_count": 153,
     "metadata": {},
     "output_type": "execute_result"
    }
   ],
   "source": [
    "palette = np.array( [ [ 0, 0, 0], # black\n",
    "                      [255, 0, 0], # red\n",
    "                      [ 0,255, 0], # green\n",
    "                      [ 0, 0,255], # blue\n",
    "                      [255,255,255] ] ) # white\n",
    "palette"
   ]
  },
  {
   "cell_type": "code",
   "execution_count": 154,
   "metadata": {},
   "outputs": [],
   "source": [
    "image_index = np.array( [ [4,4,4,0,0,0,0,4,4,4],\n",
    "                         [4,0,0,4,4,4,4,0,0,4],\n",
    "                         [0,0,4,4,4,4,4,4,0,0],\n",
    "                         [0,4,4,1,4,4,3,4,4,0],\n",
    "                         [0,4,4,1,4,4,3,4,4,0],\n",
    "                         [0,4,4,4,4,4,4,4,4,0],\n",
    "                         [0,4,4,2,4,4,2,4,4,0],\n",
    "                         [4,0,4,4,2,2,4,4,0,4],\n",
    "                         [4,4,0,4,4,4,4,0,4,4],\n",
    "                         [4,4,4,0,0,0,0,4,4,4] ] )"
   ]
  },
  {
   "cell_type": "code",
   "execution_count": 155,
   "metadata": {},
   "outputs": [],
   "source": [
    "image_data = palette[image_index]"
   ]
  },
  {
   "cell_type": "code",
   "execution_count": 156,
   "metadata": {},
   "outputs": [
    {
     "data": {
      "image/png": "[encoded data removed]",
      "text/plain": [
       "<Figure size 432x288 with 1 Axes>"
      ]
     },
     "metadata": {
      "needs_background": "light"
     },
     "output_type": "display_data"
    }
   ],
   "source": [
    "from matplotlib import pyplot as plt\n",
    "%matplotlib inline \n",
    "plt.imshow(image_data, interpolation='nearest')\n",
    "plt.show()"
   ]
  },
  {
   "cell_type": "code",
   "execution_count": 4,
   "metadata": {},
   "outputs": [
    {
     "name": "stdout",
     "output_type": "stream",
     "text": [
      "a : \n",
      " [[ 0  1  2  3]\n",
      " [ 4  5  6  7]\n",
      " [ 8  9 10 11]]\n",
      "--------------------------------------------------\n",
      "i : \n",
      " [[0 1]\n",
      " [1 2]]\n",
      "j : \n",
      " [[2 1]\n",
      " [3 3]]\n",
      "--------------------------------------------------\n",
      "a[i,j] : \n",
      " [[ 2  5]\n",
      " [ 7 11]]\n"
     ]
    }
   ],
   "source": [
    "# 5.2. 다차원 인덱싱 --- p.62\n",
    "a = np.arange(12).reshape(3,4)\n",
    "print('a :','\\n', a)\n",
    "print('-'*50)\n",
    "i = np.array( [ [0,1],\n",
    "               [1,2] ] )\n",
    "print('i :','\\n', i)\n",
    "j = np.array( [ [2,1],\n",
    "               [3,3] ] )\n",
    "print('j :','\\n', j)\n",
    "print('-'*50)\n",
    "print('a[i,j] :','\\n', a[i,j])"
   ]
  },
  {
   "cell_type": "code",
   "execution_count": 5,
   "metadata": {},
   "outputs": [
    {
     "data": {
      "text/plain": [
       "5"
      ]
     },
     "execution_count": 5,
     "metadata": {},
     "output_type": "execute_result"
    }
   ],
   "source": [
    "a[1][1] #[ 4  5  6  7][1]"
   ]
  },
  {
   "cell_type": "code",
   "execution_count": 8,
   "metadata": {},
   "outputs": [
    {
     "data": {
      "text/plain": [
       "array([[0, 1, 2, 3],\n",
       "       [4, 5, 6, 7]])"
      ]
     },
     "execution_count": 8,
     "metadata": {},
     "output_type": "execute_result"
    }
   ],
   "source": [
    "a[0:2][0:2] #[0, 1, 2, 3],\n",
    "            #[4, 5, 6, 7][0:2]"
   ]
  },
  {
   "cell_type": "code",
   "execution_count": 9,
   "metadata": {},
   "outputs": [
    {
     "data": {
      "text/plain": [
       "7"
      ]
     },
     "execution_count": 9,
     "metadata": {},
     "output_type": "execute_result"
    }
   ],
   "source": [
    "a[0:2][0:2][1][3]"
   ]
  },
  {
   "cell_type": "code",
   "execution_count": 10,
   "metadata": {},
   "outputs": [
    {
     "data": {
      "text/plain": [
       "array([[0, 1],\n",
       "       [4, 5]])"
      ]
     },
     "execution_count": 10,
     "metadata": {},
     "output_type": "execute_result"
    }
   ],
   "source": [
    "a[0:2, 0:2]"
   ]
  },
  {
   "cell_type": "code",
   "execution_count": 21,
   "metadata": {},
   "outputs": [
    {
     "name": "stdout",
     "output_type": "stream",
     "text": [
      "a : \n",
      " [[ 0  1  2  3]\n",
      " [ 4  5  6  7]\n",
      " [ 8  9 10 11]]\n",
      "--------------------------------------------------\n",
      "a[0:1, 0:1] : \n",
      " [[0]]\n",
      "--------------------------------------------------\n",
      "a[[0,1], [0,1]] : \n",
      " [0 5]\n"
     ]
    }
   ],
   "source": [
    "print('a :', '\\n', a)\n",
    "print('-'*50)\n",
    "print('a[0:1, 0:1] :', '\\n', a[0:1, 0:1])\n",
    "print('-'*50)\n",
    "print('a[[0,1], [0,1]] :', '\\n', a[[0,1], [0,1]])"
   ]
  },
  {
   "cell_type": "code",
   "execution_count": 22,
   "metadata": {
    "scrolled": true
   },
   "outputs": [
    {
     "name": "stdout",
     "output_type": "stream",
     "text": [
      "a : \n",
      " [[ 0  1  2  3]\n",
      " [ 4  5  6  7]\n",
      " [ 8  9 10 11]]\n",
      "--------------------------------------------------\n",
      "a[[0,1],0:2] : \n",
      " [[0 1]\n",
      " [4 5]]\n",
      "--------------------------------------------------\n"
     ]
    }
   ],
   "source": [
    "print('a :', '\\n', a)\n",
    "print('-'*50)\n",
    "print('a[[0,1],0:2] :', '\\n', a[[0,1],0:2])\n",
    "print('-'*50)"
   ]
  },
  {
   "cell_type": "code",
   "execution_count": 34,
   "metadata": {},
   "outputs": [
    {
     "name": "stdout",
     "output_type": "stream",
     "text": [
      "[[ 2  5]\n",
      " [ 7 11]]\n",
      "--------------------------------------------------\n",
      "5\n",
      "--------------------------------------------------\n",
      "[[0 1 2 3]\n",
      " [4 5 6 7]]\n",
      "--------------------------------------------------\n",
      "[2 5]\n",
      "--------------------------------------------------\n",
      "7\n",
      " -> 스칼라(차원없음)\n",
      "--------------------------------------------------\n",
      "11\n",
      " -> 스칼라(차원없음)\n",
      "--------------------------------------------------\n",
      "[ 7 11]\n",
      " -> 두 스칼라 합쳐서 차원이 됨\n",
      "--------------------------------------------------\n",
      "[2 5]\n",
      "[ 7 11]\n",
      "\n",
      "\n",
      "[[ 1  6]\n",
      " [11  7]]\n"
     ]
    }
   ],
   "source": [
    "print(a[i,j])\n",
    "print('-'*50)\n",
    "print(a[1,1]) #[2  5]\n",
    "print('-'*50)\n",
    "print(a[[0,1]])\n",
    "print('-'*50)\n",
    "print(a[[0,1],[2,1]])\n",
    "print('-'*50)\n",
    "print(a[1,3]) \n",
    "print(' -> 스칼라(차원없음)')\n",
    "print('-'*50)\n",
    "print(a[2,3])\n",
    "print(' -> 스칼라(차원없음)')\n",
    "print('-'*50)\n",
    "print(a[[1,2],[3,3]])\n",
    "print(' -> 두 스칼라 합쳐서 차원이 됨')\n",
    "print('-'*50)\n",
    "print(a[[0,1],[2,1]])\n",
    "print(a[[1,2],[3,3]])\n",
    "print('\\n')\n",
    "print(a[[[0,1],[2,1]],[[1,2],[3,3]] ])\n",
    "# print('-'*50)\n",
    "# print('-'*50)\n",
    "# print('-'*50)"
   ]
  },
  {
   "cell_type": "code",
   "execution_count": 43,
   "metadata": {},
   "outputs": [
    {
     "name": "stdout",
     "output_type": "stream",
     "text": [
      "[[ 2  5]\n",
      " [ 7 11]]\n",
      "-> l은 리스트, 리스트 안에 i,j 배열 들어감\n",
      "[[ 2  5]\n",
      " [ 7 11]]\n",
      "-> 배열\n"
     ]
    },
    {
     "name": "stderr",
     "output_type": "stream",
     "text": [
      "C:\\Users\\0114m\\Anaconda3\\lib\\site-packages\\ipykernel_launcher.py:2: FutureWarning: Using a non-tuple sequence for multidimensional indexing is deprecated; use `arr[tuple(seq)]` instead of `arr[seq]`. In the future this will be interpreted as an array index, `arr[np.array(seq)]`, which will result either in an error or a different result.\n",
      "  \n"
     ]
    }
   ],
   "source": [
    "#64\n",
    "l = [i,j]\n",
    "print(a[l])\n",
    "print('-> l은 리스트, 리스트 안에 i,j 배열 들어감')\n",
    "s = np.array([i,j])\n",
    "print(a[tuple(s)]) #튜플로 주면 자체적으로 언팩을 해 주기 때문에 에러가 안 뜸\n",
    "print('-> 배열')"
   ]
  },
  {
   "cell_type": "code",
   "execution_count": 53,
   "metadata": {},
   "outputs": [
    {
     "name": "stdout",
     "output_type": "stream",
     "text": [
      "[[ 0.          0.84147098  0.90929743  0.14112001]\n",
      " [-0.7568025  -0.95892427 -0.2794155   0.6569866 ]\n",
      " [ 0.98935825  0.41211849 -0.54402111 -0.99999021]\n",
      " [-0.53657292  0.42016704  0.99060736  0.65028784]\n",
      " [-0.28790332 -0.96139749 -0.75098725  0.14987721]]\n",
      "--------------------------------------------------\n",
      "data.max() : 0.9906073556948704\n",
      "--------------------------------------------------\n",
      "[0.98935825 0.84147098 0.99060736 0.6569866 ]\n",
      "--------------------------------------------------\n",
      "[0.90929743 0.6569866  0.98935825 0.99060736 0.14987721]\n",
      "--------------------------------------------------\n",
      "14  ->최대값이 있는 인덱스 뽑아옴\n",
      "[2 0 3 1]  -> 최대값 인덱스 행 축 별로!\n",
      "--------------------------------------------------\n",
      "[2 3 0 2 3]  -> 최대값 인덱스 열 축 기준!\n"
     ]
    }
   ],
   "source": [
    "#64\n",
    "data = np.sin(np.arange(20)).reshape(5,4) # 4 series\n",
    "print(data)\n",
    "print('-'*50)\n",
    "print('data.max() :',data.max())\n",
    "print('-'*50)\n",
    "print(data.max(axis=0))\n",
    "print('-'*50)\n",
    "print(data.max(axis=1))\n",
    "print('-'*50)\n",
    "print(data.argmax(), ' ->최대값이 있는 인덱스 뽑아옴')\n",
    "print(data.argmax(axis=0),' -> 최대값 인덱스 행 축 별로!')\n",
    "print('-'*50)\n",
    "print(data.argmax(axis=1),' -> 최대값 인덱스 열 축 기준!')"
   ]
  },
  {
   "cell_type": "code",
   "execution_count": 59,
   "metadata": {},
   "outputs": [
    {
     "name": "stdout",
     "output_type": "stream",
     "text": [
      "[2 0 3 1]\n",
      "[0.98935825 0.84147098 0.99060736 0.6569866 ]\n",
      "[0 1 2 3 4]\n",
      "[0 0 2 0 0]\n",
      "[ 0 10  2 10 10]\n"
     ]
    }
   ],
   "source": [
    "ind = data.argmax(axis=0) # 첫 번째 축별 최댓값 인덱스\n",
    "print(ind)\n",
    "data_max = data[ind, range(data.shape[1])] \n",
    "print(data_max)\n",
    "a = np.arange(5)\n",
    "print(a)\n",
    "a[[1,3,4]] = 0\n",
    "print(a)\n",
    "a[[1,3,4]] = 10\n",
    "print(a)\n"
   ]
  },
  {
   "cell_type": "code",
   "execution_count": 61,
   "metadata": {
    "scrolled": true
   },
   "outputs": [
    {
     "name": "stdout",
     "output_type": "stream",
     "text": [
      "[1 2 3 4 5]\n",
      "[10  2 20  4 30]\n",
      "[10  2 20  4 30]\n"
     ]
    }
   ],
   "source": [
    "a = np.arange(1,6)\n",
    "print(a)\n",
    "a[0] = 10\n",
    "a[2] = 20\n",
    "a[4] = 30\n",
    "print(a)\n",
    "#------------------------\n",
    "a[[0,2,4]] = [10,20,30]\n",
    "print(a)"
   ]
  },
  {
   "cell_type": "code",
   "execution_count": 62,
   "metadata": {
    "scrolled": true
   },
   "outputs": [
    {
     "data": {
      "text/plain": [
       "array([[1., 1., 1., ..., 1., 1., 1.],\n",
       "       [1., 1., 1., ..., 1., 1., 1.],\n",
       "       [1., 1., 1., ..., 1., 1., 1.],\n",
       "       ...,\n",
       "       [1., 1., 1., ..., 1., 1., 1.],\n",
       "       [1., 1., 1., ..., 1., 1., 1.],\n",
       "       [1., 1., 1., ..., 1., 1., 1.]])"
      ]
     },
     "execution_count": 62,
     "metadata": {},
     "output_type": "execute_result"
    }
   ],
   "source": [
    "t = np.ones((100,100))\n",
    "t"
   ]
  },
  {
   "cell_type": "code",
   "execution_count": null,
   "metadata": {},
   "outputs": [],
   "source": [
    "np.maen(data, axis=0)"
   ]
  },
  {
   "cell_type": "code",
   "execution_count": null,
   "metadata": {},
   "outputs": [],
   "source": [
    "sample = data[0:5,]"
   ]
  },
  {
   "cell_type": "code",
   "execution_count": null,
   "metadata": {},
   "outputs": [],
   "source": [
    "sample[sample > np.mean(sample, axis=0)]"
   ]
  }
 ],
 "metadata": {
  "kernelspec": {
   "display_name": "Python 3",
   "language": "python",
   "name": "python3"
  },
  "language_info": {
   "codemirror_mode": {
    "name": "ipython",
    "version": 3
   },
   "file_extension": ".py",
   "mimetype": "text/x-python",
   "name": "python",
   "nbconvert_exporter": "python",
   "pygments_lexer": "ipython3",
   "version": "3.7.3"
  }
 },
 "nbformat": 4,
 "nbformat_minor": 2
}
